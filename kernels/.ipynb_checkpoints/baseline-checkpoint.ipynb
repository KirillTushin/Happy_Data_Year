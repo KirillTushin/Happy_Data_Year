{
 "cells": [
  {
   "cell_type": "markdown",
   "metadata": {},
   "source": [
    "### Imports"
   ]
  },
  {
   "cell_type": "code",
   "execution_count": 1,
   "metadata": {},
   "outputs": [],
   "source": [
    "import re\n",
    "from math import sin, cos, sqrt, atan2, radians\n",
    "\n",
    "import lightgbm as lgb\n",
    "import numpy as np\n",
    "import pandas as pd\n",
    "import usaddress\n",
    "from hyperopt import hp, tpe\n",
    "from hyperopt.fmin import fmin\n",
    "from sklearn.metrics import mean_squared_error, make_scorer\n",
    "from sklearn.model_selection import cross_val_score, KFold, GridSearchCV\n",
    "from tqdm import tqdm_notebook\n",
    "from target_encoding import TargetEncoder\n"
   ]
  },
  {
   "cell_type": "markdown",
   "metadata": {},
   "source": [
    "### Use functions"
   ]
  },
  {
   "cell_type": "code",
   "execution_count": 2,
   "metadata": {},
   "outputs": [],
   "source": [
    "def rmse(y_true, y_pred):\n",
    "    return sqrt(mean_squared_error(y_true, y_pred))\n",
    "\n",
    "def distance(x, y):\n",
    "    \"\"\"\n",
    "    Параметры\n",
    "    ----------\n",
    "    x : tuple, широта и долгота первой геокоординаты \n",
    "    y : tuple, широта и долгота второй геокоординаты \n",
    "    \n",
    "    Результат\n",
    "    ----------\n",
    "    result : дистанция в километрах между двумя геокоординатами\n",
    "    \"\"\"\n",
    "    R = 6373.0 # радиус земли в километрах\n",
    "    lat_a, long_a, lat_b, long_b = map(radians, [*x, *y])    \n",
    "    dlon = long_b - long_a\n",
    "    dlat = lat_b - lat_a\n",
    "    a = sin(dlat/2)**2 + cos(lat_a) * cos(lat_b) * sin(dlon/2)**2\n",
    "    c = 2 * atan2(sqrt(a), sqrt(1 - a))\n",
    "    return R * c\n",
    "\n",
    "\n",
    "def get_address(text):\n",
    "    text = str(text).lower()\n",
    "    text = re.sub(r\"[^A-Za-zА-Яа-я]+\", ' ', text)\n",
    "    try:\n",
    "        tag = usaddress.tag(text)[0]\n",
    "        res = tag.get('PlaceName')\n",
    "    except:\n",
    "        res = None\n",
    "    if res is None:\n",
    "        res = text.split()[-1]\n",
    "    return res\n"
   ]
  },
  {
   "cell_type": "code",
   "execution_count": 3,
   "metadata": {},
   "outputs": [],
   "source": [
    "class DataReader:\n",
    "    def __init__(self, path, is_train = True):\n",
    "        self.path = path\n",
    "        self.is_train = is_train\n",
    "        \n",
    "        self.x = pd.read_csv(self.path, index_col=0)\n",
    "        \n",
    "        if self.is_train:\n",
    "            self.y = self.x['target']\n",
    "            self.x = self.x.drop('target', axis=1)\n",
    "            \n",
    "        self.columns = self.x.columns\n",
    "        self.index = self.x.index\n",
    "        self.len = len(self.x)\n",
    "        \n",
    "    def get_x(self, i):\n",
    "        assert i in self.index, 'Bad Index'\n",
    "        \n",
    "        return self.x.loc[i]\n",
    "    \n",
    "    def get_x_col(self, i, col):\n",
    "        assert i in self.index, 'Bad Index'\n",
    "        assert col in self.columns, 'Bad Columns'\n",
    "        \n",
    "        return self.get_x(i)[col]\n",
    "    \n",
    "    def get_y(self, i):\n",
    "        assert i in self.index, 'Bad Index'\n",
    "        \n",
    "        if self.is_train:\n",
    "            return self.y.loc[i]\n",
    "        else:\n",
    "            return None\n",
    "        \n",
    "    def add_columns(self, name, data):\n",
    "        assert name not in self.columns, 'Columns name exist'\n",
    "        assert len(data) == self.len, 'Len of data must be equal to dataset'\n",
    "        \n",
    "        self.x[name] = data\n",
    "        self.columns = self.x.columns\n"
   ]
  },
  {
   "cell_type": "code",
   "execution_count": 4,
   "metadata": {},
   "outputs": [],
   "source": [
    "my_rmse = make_scorer(rmse, greater_is_better=False)"
   ]
  },
  {
   "cell_type": "markdown",
   "metadata": {},
   "source": [
    "### Read data"
   ]
  },
  {
   "cell_type": "code",
   "execution_count": 5,
   "metadata": {},
   "outputs": [],
   "source": [
    "train = DataReader('../input/train.csv', True)\n",
    "test = DataReader('../input/test.csv', False)\n"
   ]
  },
  {
   "cell_type": "markdown",
   "metadata": {},
   "source": [
    "### Feature engineering"
   ]
  },
  {
   "cell_type": "code",
   "execution_count": 6,
   "metadata": {},
   "outputs": [],
   "source": [
    "for data in [train, test]:\n",
    "    new_column = 'city_eng'\n",
    "    new_data = data.x['address'].apply(get_address)\n",
    "    data.add_columns(new_column, new_data)\n"
   ]
  },
  {
   "cell_type": "markdown",
   "metadata": {},
   "source": [
    "### Distance to centres"
   ]
  },
  {
   "cell_type": "code",
   "execution_count": 7,
   "metadata": {},
   "outputs": [],
   "source": [
    "cities = {\n",
    "    'Москва': [55.753215, 37.622504],\n",
    "    'Питер': [59.939095, 30.315868],\n",
    "    'Новосибирск': [55.030199, 82.920430],\n",
    "    'Екатеринбург':[56.838011, 60.597465],\n",
    "    'Краснодар':[45.035470, 38.975313],\n",
    "    'Владивосток':[43.115536, 131.885485],\n",
    "    'Еманжелинск':[54.752147, 61.317223],\n",
    "    'Якутск':[62.028103, 129.732663],\n",
    "}\n"
   ]
  },
  {
   "cell_type": "code",
   "execution_count": 8,
   "metadata": {},
   "outputs": [
    {
     "data": {
      "application/vnd.jupyter.widget-view+json": {
       "model_id": "06e3563d3c7e4dfc93f558246ab55ce1",
       "version_major": 2,
       "version_minor": 0
      },
      "text/plain": [
       "HBox(children=(IntProgress(value=0, max=8), HTML(value='')))"
      ]
     },
     "metadata": {},
     "output_type": "display_data"
    },
    {
     "name": "stdout",
     "output_type": "stream",
     "text": [
      "\n"
     ]
    }
   ],
   "source": [
    "use_columns = ['atm_group', 'city_eng']\n",
    "for city in tqdm_notebook(cities.keys()):\n",
    "    for data in [train, test]:\n",
    "        new_column1 = 'dist_to_city_{}'.format(city)\n",
    "        new_data1 = data.x.apply(lambda x: distance(cities[city], x[['lat', 'long']]), axis=1)\n",
    "        data.add_columns(new_column1, new_data1)\n",
    "        \n",
    "        new_column2 = 'labels_dist_to_city_{}'.format(city)\n",
    "        maximum = new_data1.max() / 5\n",
    "        new_data2 = data.x[new_column1] // maximum\n",
    "        data.add_columns(new_column2, new_data2)\n",
    "        \n",
    "    use_columns.append(new_column2)\n"
   ]
  },
  {
   "cell_type": "markdown",
   "metadata": {},
   "source": [
    "### Target encoding"
   ]
  },
  {
   "cell_type": "code",
   "execution_count": 9,
   "metadata": {},
   "outputs": [],
   "source": [
    "for i in range(6, 23, 4):\n",
    "    for data in [train, test]:\n",
    "        new_column = 'lat_round_{}'.format(i)\n",
    "        new_data = data.x['lat'].fillna(0).apply(lambda x: int(i*x))\n",
    "        data.add_columns(new_column, new_data)\n",
    "    use_columns.append(new_column)\n",
    "    \n",
    "for i in [1.6, 1.8, 2, 2.2, 2.4, 2.6]:\n",
    "    for data in [train, test]:\n",
    "        new_column = 'long_round_{}'.format(i)\n",
    "        new_data = data.x['long'].fillna(0).apply(lambda x: int(i*x))\n",
    "        data.add_columns(new_column, new_data)\n",
    "    use_columns.append(new_column)\n"
   ]
  },
  {
   "cell_type": "code",
   "execution_count": null,
   "metadata": {},
   "outputs": [],
   "source": [
    "for col in use_columns:\n",
    "    encod = TargetEncoder(col)\n",
    "    encod.fit(train.x[[col]], y=train.y)\n",
    "    \n",
    "    new_column = '{}_enc'.format(col)\n",
    "    for data in [train, test]:\n",
    "        new_data = encod.predict(data.x[[col]])\n",
    "        data.add_columns(new_column, new_data)\n"
   ]
  },
  {
   "cell_type": "markdown",
   "metadata": {},
   "source": [
    "### Поиск модели"
   ]
  },
  {
   "cell_type": "code",
   "execution_count": null,
   "metadata": {},
   "outputs": [],
   "source": [
    "X_train = train.x.drop([\n",
    "    'address',\n",
    "    'address_rus',\n",
    "    'id',\n",
    "    'city_eng',\n",
    "], axis=1)\n",
    "Y_train = train.y\n"
   ]
  },
  {
   "cell_type": "code",
   "execution_count": null,
   "metadata": {
    "scrolled": true
   },
   "outputs": [
    {
     "name": "stdout",
     "output_type": "stream",
     "text": [
      "Fitting 3 folds for each of 7350 candidates, totalling 22050 fits\n",
      "[CV] colsample_bytree=0.3, num_leaves=4, reg_alpha=0.1, reg_lambda=0.1, subsample=0.3 \n"
     ]
    },
    {
     "name": "stderr",
     "output_type": "stream",
     "text": [
      "[Parallel(n_jobs=1)]: Using backend SequentialBackend with 1 concurrent workers.\n"
     ]
    },
    {
     "name": "stdout",
     "output_type": "stream",
     "text": [
      "[CV]  colsample_bytree=0.3, num_leaves=4, reg_alpha=0.1, reg_lambda=0.1, subsample=0.3, score=-0.04567233033608959, total=   1.7s\n",
      "[CV] colsample_bytree=0.3, num_leaves=4, reg_alpha=0.1, reg_lambda=0.1, subsample=0.3 \n"
     ]
    },
    {
     "name": "stderr",
     "output_type": "stream",
     "text": [
      "[Parallel(n_jobs=1)]: Done   1 out of   1 | elapsed:    1.8s remaining:    0.0s\n"
     ]
    },
    {
     "name": "stdout",
     "output_type": "stream",
     "text": [
      "[CV]  colsample_bytree=0.3, num_leaves=4, reg_alpha=0.1, reg_lambda=0.1, subsample=0.3, score=-0.047212313913326504, total=   1.3s\n",
      "[CV] colsample_bytree=0.3, num_leaves=4, reg_alpha=0.1, reg_lambda=0.1, subsample=0.3 \n"
     ]
    },
    {
     "name": "stderr",
     "output_type": "stream",
     "text": [
      "[Parallel(n_jobs=1)]: Done   2 out of   2 | elapsed:    3.1s remaining:    0.0s\n"
     ]
    },
    {
     "name": "stdout",
     "output_type": "stream",
     "text": [
      "[CV]  colsample_bytree=0.3, num_leaves=4, reg_alpha=0.1, reg_lambda=0.1, subsample=0.3, score=-0.04692980592151135, total=   1.5s\n",
      "[CV] colsample_bytree=0.3, num_leaves=4, reg_alpha=0.1, reg_lambda=0.1, subsample=0.4 \n",
      "[CV]  colsample_bytree=0.3, num_leaves=4, reg_alpha=0.1, reg_lambda=0.1, subsample=0.4, score=-0.04567233033608959, total=   1.7s\n",
      "[CV] colsample_bytree=0.3, num_leaves=4, reg_alpha=0.1, reg_lambda=0.1, subsample=0.4 \n",
      "[CV]  colsample_bytree=0.3, num_leaves=4, reg_alpha=0.1, reg_lambda=0.1, subsample=0.4, score=-0.047212313913326504, total=   1.4s\n",
      "[CV] colsample_bytree=0.3, num_leaves=4, reg_alpha=0.1, reg_lambda=0.1, subsample=0.4 \n",
      "[CV]  colsample_bytree=0.3, num_leaves=4, reg_alpha=0.1, reg_lambda=0.1, subsample=0.4, score=-0.04692980592151135, total=   1.3s\n",
      "[CV] colsample_bytree=0.3, num_leaves=4, reg_alpha=0.1, reg_lambda=0.1, subsample=0.5 \n",
      "[CV]  colsample_bytree=0.3, num_leaves=4, reg_alpha=0.1, reg_lambda=0.1, subsample=0.5, score=-0.04567233033608959, total=   1.4s\n",
      "[CV] colsample_bytree=0.3, num_leaves=4, reg_alpha=0.1, reg_lambda=0.1, subsample=0.5 \n",
      "[CV]  colsample_bytree=0.3, num_leaves=4, reg_alpha=0.1, reg_lambda=0.1, subsample=0.5, score=-0.047212313913326504, total=   1.3s\n",
      "[CV] colsample_bytree=0.3, num_leaves=4, reg_alpha=0.1, reg_lambda=0.1, subsample=0.5 \n",
      "[CV]  colsample_bytree=0.3, num_leaves=4, reg_alpha=0.1, reg_lambda=0.1, subsample=0.5, score=-0.04692980592151135, total=   1.2s\n",
      "[CV] colsample_bytree=0.3, num_leaves=4, reg_alpha=0.1, reg_lambda=0.1, subsample=0.6000000000000001 \n",
      "[CV]  colsample_bytree=0.3, num_leaves=4, reg_alpha=0.1, reg_lambda=0.1, subsample=0.6000000000000001, score=-0.04567233033608959, total=   1.3s\n",
      "[CV] colsample_bytree=0.3, num_leaves=4, reg_alpha=0.1, reg_lambda=0.1, subsample=0.6000000000000001 \n",
      "[CV]  colsample_bytree=0.3, num_leaves=4, reg_alpha=0.1, reg_lambda=0.1, subsample=0.6000000000000001, score=-0.047212313913326504, total=   1.1s\n",
      "[CV] colsample_bytree=0.3, num_leaves=4, reg_alpha=0.1, reg_lambda=0.1, subsample=0.6000000000000001 \n",
      "[CV]  colsample_bytree=0.3, num_leaves=4, reg_alpha=0.1, reg_lambda=0.1, subsample=0.6000000000000001, score=-0.04692980592151135, total=   1.8s\n",
      "[CV] colsample_bytree=0.3, num_leaves=4, reg_alpha=0.1, reg_lambda=0.1, subsample=0.7000000000000002 \n",
      "[CV]  colsample_bytree=0.3, num_leaves=4, reg_alpha=0.1, reg_lambda=0.1, subsample=0.7000000000000002, score=-0.04567233033608959, total=   1.8s\n",
      "[CV] colsample_bytree=0.3, num_leaves=4, reg_alpha=0.1, reg_lambda=0.1, subsample=0.7000000000000002 \n",
      "[CV]  colsample_bytree=0.3, num_leaves=4, reg_alpha=0.1, reg_lambda=0.1, subsample=0.7000000000000002, score=-0.047212313913326504, total=   1.4s\n",
      "[CV] colsample_bytree=0.3, num_leaves=4, reg_alpha=0.1, reg_lambda=0.1, subsample=0.7000000000000002 \n",
      "[CV]  colsample_bytree=0.3, num_leaves=4, reg_alpha=0.1, reg_lambda=0.1, subsample=0.7000000000000002, score=-0.04692980592151135, total=   1.0s\n",
      "[CV] colsample_bytree=0.3, num_leaves=4, reg_alpha=0.1, reg_lambda=0.30000000000000004, subsample=0.3 \n",
      "[CV]  colsample_bytree=0.3, num_leaves=4, reg_alpha=0.1, reg_lambda=0.30000000000000004, subsample=0.3, score=-0.04568281574045354, total=   1.4s\n",
      "[CV] colsample_bytree=0.3, num_leaves=4, reg_alpha=0.1, reg_lambda=0.30000000000000004, subsample=0.3 \n",
      "[CV]  colsample_bytree=0.3, num_leaves=4, reg_alpha=0.1, reg_lambda=0.30000000000000004, subsample=0.3, score=-0.047209994452580076, total=   1.0s\n",
      "[CV] colsample_bytree=0.3, num_leaves=4, reg_alpha=0.1, reg_lambda=0.30000000000000004, subsample=0.3 \n",
      "[CV]  colsample_bytree=0.3, num_leaves=4, reg_alpha=0.1, reg_lambda=0.30000000000000004, subsample=0.3, score=-0.046933732598086475, total=   1.4s\n",
      "[CV] colsample_bytree=0.3, num_leaves=4, reg_alpha=0.1, reg_lambda=0.30000000000000004, subsample=0.4 \n",
      "[CV]  colsample_bytree=0.3, num_leaves=4, reg_alpha=0.1, reg_lambda=0.30000000000000004, subsample=0.4, score=-0.04568281574045354, total=   1.0s\n",
      "[CV] colsample_bytree=0.3, num_leaves=4, reg_alpha=0.1, reg_lambda=0.30000000000000004, subsample=0.4 \n",
      "[CV]  colsample_bytree=0.3, num_leaves=4, reg_alpha=0.1, reg_lambda=0.30000000000000004, subsample=0.4, score=-0.047209994452580076, total=   1.2s\n",
      "[CV] colsample_bytree=0.3, num_leaves=4, reg_alpha=0.1, reg_lambda=0.30000000000000004, subsample=0.4 \n",
      "[CV]  colsample_bytree=0.3, num_leaves=4, reg_alpha=0.1, reg_lambda=0.30000000000000004, subsample=0.4, score=-0.046933732598086475, total=   1.2s\n",
      "[CV] colsample_bytree=0.3, num_leaves=4, reg_alpha=0.1, reg_lambda=0.30000000000000004, subsample=0.5 \n",
      "[CV]  colsample_bytree=0.3, num_leaves=4, reg_alpha=0.1, reg_lambda=0.30000000000000004, subsample=0.5, score=-0.04568281574045354, total=   1.1s\n",
      "[CV] colsample_bytree=0.3, num_leaves=4, reg_alpha=0.1, reg_lambda=0.30000000000000004, subsample=0.5 \n",
      "[CV]  colsample_bytree=0.3, num_leaves=4, reg_alpha=0.1, reg_lambda=0.30000000000000004, subsample=0.5, score=-0.047209994452580076, total=   1.4s\n",
      "[CV] colsample_bytree=0.3, num_leaves=4, reg_alpha=0.1, reg_lambda=0.30000000000000004, subsample=0.5 \n",
      "[CV]  colsample_bytree=0.3, num_leaves=4, reg_alpha=0.1, reg_lambda=0.30000000000000004, subsample=0.5, score=-0.046933732598086475, total=   1.4s\n",
      "[CV] colsample_bytree=0.3, num_leaves=4, reg_alpha=0.1, reg_lambda=0.30000000000000004, subsample=0.6000000000000001 \n",
      "[CV]  colsample_bytree=0.3, num_leaves=4, reg_alpha=0.1, reg_lambda=0.30000000000000004, subsample=0.6000000000000001, score=-0.04568281574045354, total=   1.5s\n",
      "[CV] colsample_bytree=0.3, num_leaves=4, reg_alpha=0.1, reg_lambda=0.30000000000000004, subsample=0.6000000000000001 \n",
      "[CV]  colsample_bytree=0.3, num_leaves=4, reg_alpha=0.1, reg_lambda=0.30000000000000004, subsample=0.6000000000000001, score=-0.047209994452580076, total=   1.4s\n",
      "[CV] colsample_bytree=0.3, num_leaves=4, reg_alpha=0.1, reg_lambda=0.30000000000000004, subsample=0.6000000000000001 \n",
      "[CV]  colsample_bytree=0.3, num_leaves=4, reg_alpha=0.1, reg_lambda=0.30000000000000004, subsample=0.6000000000000001, score=-0.046933732598086475, total=   1.3s\n",
      "[CV] colsample_bytree=0.3, num_leaves=4, reg_alpha=0.1, reg_lambda=0.30000000000000004, subsample=0.7000000000000002 \n",
      "[CV]  colsample_bytree=0.3, num_leaves=4, reg_alpha=0.1, reg_lambda=0.30000000000000004, subsample=0.7000000000000002, score=-0.04568281574045354, total=   1.3s\n",
      "[CV] colsample_bytree=0.3, num_leaves=4, reg_alpha=0.1, reg_lambda=0.30000000000000004, subsample=0.7000000000000002 \n",
      "[CV]  colsample_bytree=0.3, num_leaves=4, reg_alpha=0.1, reg_lambda=0.30000000000000004, subsample=0.7000000000000002, score=-0.047209994452580076, total=   1.5s\n",
      "[CV] colsample_bytree=0.3, num_leaves=4, reg_alpha=0.1, reg_lambda=0.30000000000000004, subsample=0.7000000000000002 \n",
      "[CV]  colsample_bytree=0.3, num_leaves=4, reg_alpha=0.1, reg_lambda=0.30000000000000004, subsample=0.7000000000000002, score=-0.046933732598086475, total=   1.2s\n",
      "[CV] colsample_bytree=0.3, num_leaves=4, reg_alpha=0.1, reg_lambda=0.5000000000000001, subsample=0.3 \n",
      "[CV]  colsample_bytree=0.3, num_leaves=4, reg_alpha=0.1, reg_lambda=0.5000000000000001, subsample=0.3, score=-0.0456796416108388, total=   1.3s\n",
      "[CV] colsample_bytree=0.3, num_leaves=4, reg_alpha=0.1, reg_lambda=0.5000000000000001, subsample=0.3 \n",
      "[CV]  colsample_bytree=0.3, num_leaves=4, reg_alpha=0.1, reg_lambda=0.5000000000000001, subsample=0.3, score=-0.04721984430731069, total=   1.1s\n",
      "[CV] colsample_bytree=0.3, num_leaves=4, reg_alpha=0.1, reg_lambda=0.5000000000000001, subsample=0.3 \n",
      "[CV]  colsample_bytree=0.3, num_leaves=4, reg_alpha=0.1, reg_lambda=0.5000000000000001, subsample=0.3, score=-0.04692931665268946, total=   1.5s\n",
      "[CV] colsample_bytree=0.3, num_leaves=4, reg_alpha=0.1, reg_lambda=0.5000000000000001, subsample=0.4 \n",
      "[CV]  colsample_bytree=0.3, num_leaves=4, reg_alpha=0.1, reg_lambda=0.5000000000000001, subsample=0.4, score=-0.0456796416108388, total=   1.7s\n",
      "[CV] colsample_bytree=0.3, num_leaves=4, reg_alpha=0.1, reg_lambda=0.5000000000000001, subsample=0.4 \n",
      "[CV]  colsample_bytree=0.3, num_leaves=4, reg_alpha=0.1, reg_lambda=0.5000000000000001, subsample=0.4, score=-0.04721984430731069, total=   1.7s\n",
      "[CV] colsample_bytree=0.3, num_leaves=4, reg_alpha=0.1, reg_lambda=0.5000000000000001, subsample=0.4 \n",
      "[CV]  colsample_bytree=0.3, num_leaves=4, reg_alpha=0.1, reg_lambda=0.5000000000000001, subsample=0.4, score=-0.04692931665268946, total=   1.6s\n",
      "[CV] colsample_bytree=0.3, num_leaves=4, reg_alpha=0.1, reg_lambda=0.5000000000000001, subsample=0.5 \n"
     ]
    },
    {
     "name": "stdout",
     "output_type": "stream",
     "text": [
      "[CV]  colsample_bytree=0.3, num_leaves=4, reg_alpha=0.1, reg_lambda=0.5000000000000001, subsample=0.5, score=-0.0456796416108388, total=   1.5s\n",
      "[CV] colsample_bytree=0.3, num_leaves=4, reg_alpha=0.1, reg_lambda=0.5000000000000001, subsample=0.5 \n",
      "[CV]  colsample_bytree=0.3, num_leaves=4, reg_alpha=0.1, reg_lambda=0.5000000000000001, subsample=0.5, score=-0.04721984430731069, total=   2.0s\n",
      "[CV] colsample_bytree=0.3, num_leaves=4, reg_alpha=0.1, reg_lambda=0.5000000000000001, subsample=0.5 \n",
      "[CV]  colsample_bytree=0.3, num_leaves=4, reg_alpha=0.1, reg_lambda=0.5000000000000001, subsample=0.5, score=-0.04692931665268946, total=   1.5s\n",
      "[CV] colsample_bytree=0.3, num_leaves=4, reg_alpha=0.1, reg_lambda=0.5000000000000001, subsample=0.6000000000000001 \n",
      "[CV]  colsample_bytree=0.3, num_leaves=4, reg_alpha=0.1, reg_lambda=0.5000000000000001, subsample=0.6000000000000001, score=-0.0456796416108388, total=   1.2s\n",
      "[CV] colsample_bytree=0.3, num_leaves=4, reg_alpha=0.1, reg_lambda=0.5000000000000001, subsample=0.6000000000000001 \n",
      "[CV]  colsample_bytree=0.3, num_leaves=4, reg_alpha=0.1, reg_lambda=0.5000000000000001, subsample=0.6000000000000001, score=-0.04721984430731069, total=   1.6s\n",
      "[CV] colsample_bytree=0.3, num_leaves=4, reg_alpha=0.1, reg_lambda=0.5000000000000001, subsample=0.6000000000000001 \n",
      "[CV]  colsample_bytree=0.3, num_leaves=4, reg_alpha=0.1, reg_lambda=0.5000000000000001, subsample=0.6000000000000001, score=-0.04692931665268946, total=   1.7s\n",
      "[CV] colsample_bytree=0.3, num_leaves=4, reg_alpha=0.1, reg_lambda=0.5000000000000001, subsample=0.7000000000000002 \n",
      "[CV]  colsample_bytree=0.3, num_leaves=4, reg_alpha=0.1, reg_lambda=0.5000000000000001, subsample=0.7000000000000002, score=-0.0456796416108388, total=   1.6s\n",
      "[CV] colsample_bytree=0.3, num_leaves=4, reg_alpha=0.1, reg_lambda=0.5000000000000001, subsample=0.7000000000000002 \n",
      "[CV]  colsample_bytree=0.3, num_leaves=4, reg_alpha=0.1, reg_lambda=0.5000000000000001, subsample=0.7000000000000002, score=-0.04721984430731069, total=   1.5s\n",
      "[CV] colsample_bytree=0.3, num_leaves=4, reg_alpha=0.1, reg_lambda=0.5000000000000001, subsample=0.7000000000000002 \n",
      "[CV]  colsample_bytree=0.3, num_leaves=4, reg_alpha=0.1, reg_lambda=0.5000000000000001, subsample=0.7000000000000002, score=-0.04692931665268946, total=   1.5s\n",
      "[CV] colsample_bytree=0.3, num_leaves=4, reg_alpha=0.1, reg_lambda=0.7000000000000001, subsample=0.3 \n",
      "[CV]  colsample_bytree=0.3, num_leaves=4, reg_alpha=0.1, reg_lambda=0.7000000000000001, subsample=0.3, score=-0.04568326555161828, total=   1.7s\n",
      "[CV] colsample_bytree=0.3, num_leaves=4, reg_alpha=0.1, reg_lambda=0.7000000000000001, subsample=0.3 \n",
      "[CV]  colsample_bytree=0.3, num_leaves=4, reg_alpha=0.1, reg_lambda=0.7000000000000001, subsample=0.3, score=-0.047216324683089464, total=   1.6s\n",
      "[CV] colsample_bytree=0.3, num_leaves=4, reg_alpha=0.1, reg_lambda=0.7000000000000001, subsample=0.3 \n",
      "[CV]  colsample_bytree=0.3, num_leaves=4, reg_alpha=0.1, reg_lambda=0.7000000000000001, subsample=0.3, score=-0.046936546010582045, total=   1.8s\n",
      "[CV] colsample_bytree=0.3, num_leaves=4, reg_alpha=0.1, reg_lambda=0.7000000000000001, subsample=0.4 \n",
      "[CV]  colsample_bytree=0.3, num_leaves=4, reg_alpha=0.1, reg_lambda=0.7000000000000001, subsample=0.4, score=-0.04568326555161828, total=   1.4s\n",
      "[CV] colsample_bytree=0.3, num_leaves=4, reg_alpha=0.1, reg_lambda=0.7000000000000001, subsample=0.4 \n",
      "[CV]  colsample_bytree=0.3, num_leaves=4, reg_alpha=0.1, reg_lambda=0.7000000000000001, subsample=0.4, score=-0.047216324683089464, total=   1.5s\n",
      "[CV] colsample_bytree=0.3, num_leaves=4, reg_alpha=0.1, reg_lambda=0.7000000000000001, subsample=0.4 \n",
      "[CV]  colsample_bytree=0.3, num_leaves=4, reg_alpha=0.1, reg_lambda=0.7000000000000001, subsample=0.4, score=-0.046936546010582045, total=   1.6s\n",
      "[CV] colsample_bytree=0.3, num_leaves=4, reg_alpha=0.1, reg_lambda=0.7000000000000001, subsample=0.5 \n",
      "[CV]  colsample_bytree=0.3, num_leaves=4, reg_alpha=0.1, reg_lambda=0.7000000000000001, subsample=0.5, score=-0.04568326555161828, total=   1.1s\n",
      "[CV] colsample_bytree=0.3, num_leaves=4, reg_alpha=0.1, reg_lambda=0.7000000000000001, subsample=0.5 \n",
      "[CV]  colsample_bytree=0.3, num_leaves=4, reg_alpha=0.1, reg_lambda=0.7000000000000001, subsample=0.5, score=-0.047216324683089464, total=   1.4s\n",
      "[CV] colsample_bytree=0.3, num_leaves=4, reg_alpha=0.1, reg_lambda=0.7000000000000001, subsample=0.5 \n",
      "[CV]  colsample_bytree=0.3, num_leaves=4, reg_alpha=0.1, reg_lambda=0.7000000000000001, subsample=0.5, score=-0.046936546010582045, total=   1.4s\n",
      "[CV] colsample_bytree=0.3, num_leaves=4, reg_alpha=0.1, reg_lambda=0.7000000000000001, subsample=0.6000000000000001 \n",
      "[CV]  colsample_bytree=0.3, num_leaves=4, reg_alpha=0.1, reg_lambda=0.7000000000000001, subsample=0.6000000000000001, score=-0.04568326555161828, total=   1.1s\n",
      "[CV] colsample_bytree=0.3, num_leaves=4, reg_alpha=0.1, reg_lambda=0.7000000000000001, subsample=0.6000000000000001 \n",
      "[CV]  colsample_bytree=0.3, num_leaves=4, reg_alpha=0.1, reg_lambda=0.7000000000000001, subsample=0.6000000000000001, score=-0.047216324683089464, total=   1.5s\n",
      "[CV] colsample_bytree=0.3, num_leaves=4, reg_alpha=0.1, reg_lambda=0.7000000000000001, subsample=0.6000000000000001 \n",
      "[CV]  colsample_bytree=0.3, num_leaves=4, reg_alpha=0.1, reg_lambda=0.7000000000000001, subsample=0.6000000000000001, score=-0.046936546010582045, total=   1.5s\n",
      "[CV] colsample_bytree=0.3, num_leaves=4, reg_alpha=0.1, reg_lambda=0.7000000000000001, subsample=0.7000000000000002 \n",
      "[CV]  colsample_bytree=0.3, num_leaves=4, reg_alpha=0.1, reg_lambda=0.7000000000000001, subsample=0.7000000000000002, score=-0.04568326555161828, total=   1.1s\n",
      "[CV] colsample_bytree=0.3, num_leaves=4, reg_alpha=0.1, reg_lambda=0.7000000000000001, subsample=0.7000000000000002 \n",
      "[CV]  colsample_bytree=0.3, num_leaves=4, reg_alpha=0.1, reg_lambda=0.7000000000000001, subsample=0.7000000000000002, score=-0.047216324683089464, total=   1.5s\n",
      "[CV] colsample_bytree=0.3, num_leaves=4, reg_alpha=0.1, reg_lambda=0.7000000000000001, subsample=0.7000000000000002 \n",
      "[CV]  colsample_bytree=0.3, num_leaves=4, reg_alpha=0.1, reg_lambda=0.7000000000000001, subsample=0.7000000000000002, score=-0.046936546010582045, total=   1.3s\n",
      "[CV] colsample_bytree=0.3, num_leaves=4, reg_alpha=0.1, reg_lambda=0.9000000000000001, subsample=0.3 \n",
      "[CV]  colsample_bytree=0.3, num_leaves=4, reg_alpha=0.1, reg_lambda=0.9000000000000001, subsample=0.3, score=-0.045682076364196515, total=   1.2s\n",
      "[CV] colsample_bytree=0.3, num_leaves=4, reg_alpha=0.1, reg_lambda=0.9000000000000001, subsample=0.3 \n",
      "[CV]  colsample_bytree=0.3, num_leaves=4, reg_alpha=0.1, reg_lambda=0.9000000000000001, subsample=0.3, score=-0.04722127862912098, total=   1.4s\n",
      "[CV] colsample_bytree=0.3, num_leaves=4, reg_alpha=0.1, reg_lambda=0.9000000000000001, subsample=0.3 \n",
      "[CV]  colsample_bytree=0.3, num_leaves=4, reg_alpha=0.1, reg_lambda=0.9000000000000001, subsample=0.3, score=-0.04693460331370554, total=   1.1s\n",
      "[CV] colsample_bytree=0.3, num_leaves=4, reg_alpha=0.1, reg_lambda=0.9000000000000001, subsample=0.4 \n",
      "[CV]  colsample_bytree=0.3, num_leaves=4, reg_alpha=0.1, reg_lambda=0.9000000000000001, subsample=0.4, score=-0.045682076364196515, total=   1.4s\n",
      "[CV] colsample_bytree=0.3, num_leaves=4, reg_alpha=0.1, reg_lambda=0.9000000000000001, subsample=0.4 \n",
      "[CV]  colsample_bytree=0.3, num_leaves=4, reg_alpha=0.1, reg_lambda=0.9000000000000001, subsample=0.4, score=-0.04722127862912098, total=   1.5s\n",
      "[CV] colsample_bytree=0.3, num_leaves=4, reg_alpha=0.1, reg_lambda=0.9000000000000001, subsample=0.4 \n",
      "[CV]  colsample_bytree=0.3, num_leaves=4, reg_alpha=0.1, reg_lambda=0.9000000000000001, subsample=0.4, score=-0.04693460331370554, total=   1.3s\n",
      "[CV] colsample_bytree=0.3, num_leaves=4, reg_alpha=0.1, reg_lambda=0.9000000000000001, subsample=0.5 \n"
     ]
    }
   ],
   "source": [
    "gridParams = {\n",
    "    'num_leaves': np.arange(4,30, 5),\n",
    "    'colsample_bytree': np.arange(0.3, 0.8, 0.1),\n",
    "    'subsample' : np.arange(0.3, 0.8, 0.1),\n",
    "    'reg_alpha' : np.arange(0.1, 1.5, 0.2),\n",
    "    'reg_lambda' : np.arange(0.1, 1.5, 0.2),\n",
    "}\n",
    "\n",
    "gbm = lgb.LGBMRegressor(\n",
    "    boosting_type= 'gbdt',\n",
    "    objective = 'regression',\n",
    "    n_estimators=500,\n",
    "    learning_rate=0.01,\n",
    "    random_state=42,\n",
    ")\n",
    "\n",
    "cv = KFold(\n",
    "    n_splits=3, \n",
    "    shuffle=True,\n",
    "    random_state=42,\n",
    ")\n",
    "\n",
    "grid = GridSearchCV(\n",
    "    gbm, gridParams,\n",
    "    verbose=3,\n",
    "    cv=cv,\n",
    "    scoring=my_rmse,\n",
    ")\n",
    "\n",
    "grid.fit(X_train, Y_train)\n",
    "\n",
    "best = grid.best_params_"
   ]
  },
  {
   "cell_type": "code",
   "execution_count": null,
   "metadata": {},
   "outputs": [],
   "source": [
    "print(best)"
   ]
  },
  {
   "cell_type": "code",
   "execution_count": null,
   "metadata": {},
   "outputs": [],
   "source": [
    "params = {\n",
    "    'max_depth': int(best['max_depth']),\n",
    "    'num_leaves': int(best['num_leaves']),\n",
    "    'colsample_bytree': best['colsample_bytree'],\n",
    "    'subsample': best['subsample'],\n",
    "    'reg_alpha': best['reg_alpha'],\n",
    "    'reg_lambda': best['reg_lambda'],      \n",
    "}\n"
   ]
  },
  {
   "cell_type": "code",
   "execution_count": null,
   "metadata": {},
   "outputs": [],
   "source": [
    "gbm = lgb.LGBMRegressor(\n",
    "    objective = 'regression',\n",
    "    n_estimators=500,\n",
    "    learning_rate=0.01,\n",
    "    random_state=42,\n",
    "    **params,\n",
    ")\n"
   ]
  },
  {
   "cell_type": "code",
   "execution_count": null,
   "metadata": {},
   "outputs": [],
   "source": [
    "cv = KFold(\n",
    "    n_splits=5, \n",
    "    shuffle=True,\n",
    "    random_state=42,\n",
    ")\n",
    "\n",
    "scores = cross_val_score(\n",
    "    gbm, X_train, Y_train,\n",
    "    scoring=my_rmse,\n",
    "    cv=cv,\n",
    ")\n",
    "\n",
    "score = scores.mean()\n",
    "print(score)\n",
    "\n",
    "gbm.fit(X_train, Y_train)\n"
   ]
  },
  {
   "cell_type": "code",
   "execution_count": null,
   "metadata": {},
   "outputs": [],
   "source": [
    "X_test = test.x.drop([\n",
    "    'address',\n",
    "    'address_rus',\n",
    "    'id',\n",
    "    'city_eng',\n",
    "], axis=1)\n"
   ]
  },
  {
   "cell_type": "code",
   "execution_count": null,
   "metadata": {},
   "outputs": [],
   "source": [
    "submit = pd.DataFrame(gbm.predict(X_test), index=test.index, columns=['target'])\n"
   ]
  },
  {
   "cell_type": "code",
   "execution_count": null,
   "metadata": {},
   "outputs": [],
   "source": [
    "submit.to_csv('../submits/submit_{}.csv'.format(int(score*10e4)))\n"
   ]
  }
 ],
 "metadata": {
  "kernelspec": {
   "display_name": "Python 3",
   "language": "python",
   "name": "python3"
  },
  "language_info": {
   "codemirror_mode": {
    "name": "ipython",
    "version": 3
   },
   "file_extension": ".py",
   "mimetype": "text/x-python",
   "name": "python",
   "nbconvert_exporter": "python",
   "pygments_lexer": "ipython3",
   "version": "3.7.1"
  }
 },
 "nbformat": 4,
 "nbformat_minor": 2
}
