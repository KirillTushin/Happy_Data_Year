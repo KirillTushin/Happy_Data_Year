{
 "cells": [
  {
   "cell_type": "markdown",
   "metadata": {},
   "source": [
    "### Imports"
   ]
  },
  {
   "cell_type": "code",
   "execution_count": 1,
   "metadata": {},
   "outputs": [],
   "source": [
    "import pandas as pd\n",
    "import numpy as np\n",
    "from math import sin, cos, sqrt, atan2, radians\n",
    "from sklearn.neighbors import KNeighborsClassifier\n",
    "from sklearn.metrics import mean_squared_error\n",
    "from sklearn.model_selection import train_test_split\n",
    "from tqdm import tqdm_notebook\n",
    "import lightgbm as lgb"
   ]
  },
  {
   "cell_type": "markdown",
   "metadata": {},
   "source": [
    "### Use functions"
   ]
  },
  {
   "cell_type": "code",
   "execution_count": 2,
   "metadata": {},
   "outputs": [],
   "source": [
    "def rmse(y_true, y_pred):\n",
    "    return sqrt(mean_squared_error(y_true, y_pred))\n",
    "\n",
    "\n",
    "def distance(x, y):\n",
    "    \"\"\"\n",
    "    Параметры\n",
    "    ----------\n",
    "    x : tuple, широта и долгота первой геокоординаты \n",
    "    y : tuple, широта и долгота второй геокоординаты \n",
    "    \n",
    "    Результат\n",
    "    ----------\n",
    "    result : дистанция в километрах между двумя геокоординатами\n",
    "    \"\"\"\n",
    "    R = 6373.0 # радиус земли в километрах\n",
    "    lat_a, long_a, lat_b, long_b = map(radians, [*x, *y])    \n",
    "    dlon = long_b - long_a\n",
    "    dlat = lat_b - lat_a\n",
    "    a = sin(dlat/2)**2 + cos(lat_a) * cos(lat_b) * sin(dlon/2)**2\n",
    "    c = 2 * atan2(sqrt(a), sqrt(1 - a))\n",
    "    return R * c\n"
   ]
  },
  {
   "cell_type": "markdown",
   "metadata": {},
   "source": [
    "### Read data"
   ]
  },
  {
   "cell_type": "code",
   "execution_count": 3,
   "metadata": {},
   "outputs": [],
   "source": [
    "train = pd.read_csv('../input/train.csv', index_col=0)\n",
    "\n",
    "test = pd.read_csv('../input/test.csv', index_col=0)"
   ]
  },
  {
   "cell_type": "code",
   "execution_count": 4,
   "metadata": {},
   "outputs": [],
   "source": [
    "train['isTrain'] = True\n",
    "test['isTrain'] = False"
   ]
  },
  {
   "cell_type": "code",
   "execution_count": 5,
   "metadata": {},
   "outputs": [],
   "source": [
    "X = train.append(test, sort=False)"
   ]
  },
  {
   "cell_type": "markdown",
   "metadata": {},
   "source": [
    "### Describe data"
   ]
  },
  {
   "cell_type": "code",
   "execution_count": 6,
   "metadata": {
    "collapsed": false
   },
   "outputs": [
    {
     "data": {
      "text/html": [
       "<div>\n",
       "<style scoped>\n",
       "    .dataframe tbody tr th:only-of-type {\n",
       "        vertical-align: middle;\n",
       "    }\n",
       "\n",
       "    .dataframe tbody tr th {\n",
       "        vertical-align: top;\n",
       "    }\n",
       "\n",
       "    .dataframe thead th {\n",
       "        text-align: right;\n",
       "    }\n",
       "</style>\n",
       "<table border=\"1\" class=\"dataframe\">\n",
       "  <thead>\n",
       "    <tr style=\"text-align: right;\">\n",
       "      <th></th>\n",
       "      <th>id</th>\n",
       "      <th>atm_group</th>\n",
       "      <th>address</th>\n",
       "      <th>address_rus</th>\n",
       "      <th>lat</th>\n",
       "      <th>long</th>\n",
       "      <th>target</th>\n",
       "      <th>isTrain</th>\n",
       "    </tr>\n",
       "  </thead>\n",
       "  <tbody>\n",
       "    <tr>\n",
       "      <th>1226</th>\n",
       "      <td>4238.0</td>\n",
       "      <td>8083.0</td>\n",
       "      <td>Komsomolskiy pr. 13    Neftekamsk</td>\n",
       "      <td>Комсомольский проспект, 13, Нефтекамск, Респуб...</td>\n",
       "      <td>56.093084</td>\n",
       "      <td>54.252566</td>\n",
       "      <td>0.123189</td>\n",
       "      <td>True</td>\n",
       "    </tr>\n",
       "    <tr>\n",
       "      <th>1645</th>\n",
       "      <td>5276.0</td>\n",
       "      <td>5478.0</td>\n",
       "      <td>D. 13, UL. OKTYABR'SKAYA  SHEBEKINO G</td>\n",
       "      <td>Октябрьская улица, 13, Шебекино, Белгородская ...</td>\n",
       "      <td>50.422386</td>\n",
       "      <td>36.899953</td>\n",
       "      <td>NaN</td>\n",
       "      <td>False</td>\n",
       "    </tr>\n",
       "    <tr>\n",
       "      <th>1559</th>\n",
       "      <td>903.0</td>\n",
       "      <td>1942.0</td>\n",
       "      <td>3 UCHITELSKAYA STR.       SOCHI</td>\n",
       "      <td>Учительская улица, 3, микрорайон Светлана, Соч...</td>\n",
       "      <td>43.572868</td>\n",
       "      <td>39.735036</td>\n",
       "      <td>-0.000895</td>\n",
       "      <td>True</td>\n",
       "    </tr>\n",
       "    <tr>\n",
       "      <th>395</th>\n",
       "      <td>7413.0</td>\n",
       "      <td>5478.0</td>\n",
       "      <td>D. 20, UL. 70 LET OKTYABR OMSK G</td>\n",
       "      <td>улица 70 лет Октября, 20, Омск, Россия, 644123</td>\n",
       "      <td>54.982156</td>\n",
       "      <td>73.321976</td>\n",
       "      <td>NaN</td>\n",
       "      <td>False</td>\n",
       "    </tr>\n",
       "    <tr>\n",
       "      <th>4245</th>\n",
       "      <td>2553.0</td>\n",
       "      <td>3185.5</td>\n",
       "      <td>KIROVOGRADSKAJA,13A       MOSKVA</td>\n",
       "      <td>Кировоградская улица, 13А, Москва, Россия, 117519</td>\n",
       "      <td>55.612182</td>\n",
       "      <td>37.607026</td>\n",
       "      <td>-0.045854</td>\n",
       "      <td>True</td>\n",
       "    </tr>\n",
       "  </tbody>\n",
       "</table>\n",
       "</div>"
      ],
      "text/plain": [
       "<div>\n",
       "<style scoped>\n",
       "    .dataframe tbody tr th:only-of-type {\n",
       "        vertical-align: middle;\n",
       "    }\n",
       "\n",
       "    .dataframe tbody tr th {\n",
       "        vertical-align: top;\n",
       "    }\n",
       "\n",
       "    .dataframe thead th {\n",
       "        text-align: right;\n",
       "    }\n",
       "</style>\n",
       "<table border=\"1\" class=\"dataframe\">\n",
       "  <thead>\n",
       "    <tr style=\"text-align: right;\">\n",
       "      <th></th>\n",
       "      <th>id</th>\n",
       "      <th>atm_group</th>\n",
       "      <th>address</th>\n",
       "      <th>address_rus</th>\n",
       "      <th>lat</th>\n",
       "      <th>long</th>\n",
       "      <th>target</th>\n",
       "      <th>isTrain</th>\n",
       "    </tr>\n",
       "  </thead>\n",
       "  <tbody>\n",
       "    <tr>\n",
       "      <th>1226</th>\n",
       "      <td>4238.0</td>\n",
       "      <td>8083.0</td>\n",
       "      <td>Komsomolskiy pr. 13    Neftekamsk</td>\n",
       "      <td>Комсомольский проспект, 13, Нефтекамск, Респуб...</td>\n",
       "      <td>56.093084</td>\n",
       "      <td>54.252566</td>\n",
       "      <td>0.123189</td>\n",
       "      <td>True</td>\n",
       "    </tr>\n",
       "    <tr>\n",
       "      <th>1645</th>\n",
       "      <td>5276.0</td>\n",
       "      <td>5478.0</td>\n",
       "      <td>D. 13, UL. OKTYABR'SKAYA  SHEBEKINO G</td>\n",
       "      <td>Октябрьская улица, 13, Шебекино, Белгородская ...</td>\n",
       "      <td>50.422386</td>\n",
       "      <td>36.899953</td>\n",
       "      <td>NaN</td>\n",
       "      <td>False</td>\n",
       "    </tr>\n",
       "    <tr>\n",
       "      <th>1559</th>\n",
       "      <td>903.0</td>\n",
       "      <td>1942.0</td>\n",
       "      <td>3 UCHITELSKAYA STR.       SOCHI</td>\n",
       "      <td>Учительская улица, 3, микрорайон Светлана, Соч...</td>\n",
       "      <td>43.572868</td>\n",
       "      <td>39.735036</td>\n",
       "      <td>-0.000895</td>\n",
       "      <td>True</td>\n",
       "    </tr>\n",
       "    <tr>\n",
       "      <th>395</th>\n",
       "      <td>7413.0</td>\n",
       "      <td>5478.0</td>\n",
       "      <td>D. 20, UL. 70 LET OKTYABR OMSK G</td>\n",
       "      <td>улица 70 лет Октября, 20, Омск, Россия, 644123</td>\n",
       "      <td>54.982156</td>\n",
       "      <td>73.321976</td>\n",
       "      <td>NaN</td>\n",
       "      <td>False</td>\n",
       "    </tr>\n",
       "    <tr>\n",
       "      <th>4245</th>\n",
       "      <td>2553.0</td>\n",
       "      <td>3185.5</td>\n",
       "      <td>KIROVOGRADSKAJA,13A       MOSKVA</td>\n",
       "      <td>Кировоградская улица, 13А, Москва, Россия, 117519</td>\n",
       "      <td>55.612182</td>\n",
       "      <td>37.607026</td>\n",
       "      <td>-0.045854</td>\n",
       "      <td>True</td>\n",
       "    </tr>\n",
       "  </tbody>\n",
       "</table>\n",
       "</div>"
      ]
     },
     "execution_count": 6,
     "metadata": {},
     "output_type": "execute_result"
    }
   ],
   "source": [
    "X.sample(5, random_state=42)"
   ]
  },
  {
   "cell_type": "code",
   "execution_count": 7,
   "metadata": {},
   "outputs": [
    {
     "data": {
      "text/html": [
       "<div>\n",
       "<style scoped>\n",
       "    .dataframe tbody tr th:only-of-type {\n",
       "        vertical-align: middle;\n",
       "    }\n",
       "\n",
       "    .dataframe tbody tr th {\n",
       "        vertical-align: top;\n",
       "    }\n",
       "\n",
       "    .dataframe thead th {\n",
       "        text-align: right;\n",
       "    }\n",
       "</style>\n",
       "<table border=\"1\" class=\"dataframe\">\n",
       "  <thead>\n",
       "    <tr style=\"text-align: right;\">\n",
       "      <th></th>\n",
       "      <th>count</th>\n",
       "      <th>mean</th>\n",
       "      <th>std</th>\n",
       "      <th>min</th>\n",
       "      <th>25%</th>\n",
       "      <th>50%</th>\n",
       "      <th>75%</th>\n",
       "      <th>max</th>\n",
       "    </tr>\n",
       "  </thead>\n",
       "  <tbody>\n",
       "    <tr>\n",
       "      <th>id</th>\n",
       "      <td>8765.0</td>\n",
       "      <td>4404.586366</td>\n",
       "      <td>2542.532548</td>\n",
       "      <td>1.000000</td>\n",
       "      <td>2207.000000</td>\n",
       "      <td>4403.000000</td>\n",
       "      <td>6603.000000</td>\n",
       "      <td>8811.000000</td>\n",
       "    </tr>\n",
       "    <tr>\n",
       "      <th>atm_group</th>\n",
       "      <td>8765.0</td>\n",
       "      <td>4407.008842</td>\n",
       "      <td>2427.934099</td>\n",
       "      <td>32.000000</td>\n",
       "      <td>1942.000000</td>\n",
       "      <td>5478.000000</td>\n",
       "      <td>5478.000000</td>\n",
       "      <td>8083.000000</td>\n",
       "    </tr>\n",
       "    <tr>\n",
       "      <th>lat</th>\n",
       "      <td>8345.0</td>\n",
       "      <td>54.138304</td>\n",
       "      <td>4.329293</td>\n",
       "      <td>42.057080</td>\n",
       "      <td>52.243997</td>\n",
       "      <td>55.060936</td>\n",
       "      <td>56.116673</td>\n",
       "      <td>69.495093</td>\n",
       "    </tr>\n",
       "    <tr>\n",
       "      <th>long</th>\n",
       "      <td>8345.0</td>\n",
       "      <td>63.500873</td>\n",
       "      <td>32.787366</td>\n",
       "      <td>19.941530</td>\n",
       "      <td>37.851107</td>\n",
       "      <td>49.071694</td>\n",
       "      <td>84.950218</td>\n",
       "      <td>173.706490</td>\n",
       "    </tr>\n",
       "    <tr>\n",
       "      <th>target</th>\n",
       "      <td>6261.0</td>\n",
       "      <td>0.000715</td>\n",
       "      <td>0.085852</td>\n",
       "      <td>-0.145001</td>\n",
       "      <td>-0.061176</td>\n",
       "      <td>-0.015573</td>\n",
       "      <td>0.040149</td>\n",
       "      <td>0.218608</td>\n",
       "    </tr>\n",
       "  </tbody>\n",
       "</table>\n",
       "</div>"
      ],
      "text/plain": [
       "<div>\n",
       "<style scoped>\n",
       "    .dataframe tbody tr th:only-of-type {\n",
       "        vertical-align: middle;\n",
       "    }\n",
       "\n",
       "    .dataframe tbody tr th {\n",
       "        vertical-align: top;\n",
       "    }\n",
       "\n",
       "    .dataframe thead th {\n",
       "        text-align: right;\n",
       "    }\n",
       "</style>\n",
       "<table border=\"1\" class=\"dataframe\">\n",
       "  <thead>\n",
       "    <tr style=\"text-align: right;\">\n",
       "      <th></th>\n",
       "      <th>count</th>\n",
       "      <th>mean</th>\n",
       "      <th>std</th>\n",
       "      <th>min</th>\n",
       "      <th>25%</th>\n",
       "      <th>50%</th>\n",
       "      <th>75%</th>\n",
       "      <th>max</th>\n",
       "    </tr>\n",
       "  </thead>\n",
       "  <tbody>\n",
       "    <tr>\n",
       "      <th>id</th>\n",
       "      <td>8765.0</td>\n",
       "      <td>4404.586366</td>\n",
       "      <td>2542.532548</td>\n",
       "      <td>1.000000</td>\n",
       "      <td>2207.000000</td>\n",
       "      <td>4403.000000</td>\n",
       "      <td>6603.000000</td>\n",
       "      <td>8811.000000</td>\n",
       "    </tr>\n",
       "    <tr>\n",
       "      <th>atm_group</th>\n",
       "      <td>8765.0</td>\n",
       "      <td>4407.008842</td>\n",
       "      <td>2427.934099</td>\n",
       "      <td>32.000000</td>\n",
       "      <td>1942.000000</td>\n",
       "      <td>5478.000000</td>\n",
       "      <td>5478.000000</td>\n",
       "      <td>8083.000000</td>\n",
       "    </tr>\n",
       "    <tr>\n",
       "      <th>lat</th>\n",
       "      <td>8345.0</td>\n",
       "      <td>54.138304</td>\n",
       "      <td>4.329293</td>\n",
       "      <td>42.057080</td>\n",
       "      <td>52.243997</td>\n",
       "      <td>55.060936</td>\n",
       "      <td>56.116673</td>\n",
       "      <td>69.495093</td>\n",
       "    </tr>\n",
       "    <tr>\n",
       "      <th>long</th>\n",
       "      <td>8345.0</td>\n",
       "      <td>63.500873</td>\n",
       "      <td>32.787366</td>\n",
       "      <td>19.941530</td>\n",
       "      <td>37.851107</td>\n",
       "      <td>49.071694</td>\n",
       "      <td>84.950218</td>\n",
       "      <td>173.706490</td>\n",
       "    </tr>\n",
       "    <tr>\n",
       "      <th>target</th>\n",
       "      <td>6261.0</td>\n",
       "      <td>0.000715</td>\n",
       "      <td>0.085852</td>\n",
       "      <td>-0.145001</td>\n",
       "      <td>-0.061176</td>\n",
       "      <td>-0.015573</td>\n",
       "      <td>0.040149</td>\n",
       "      <td>0.218608</td>\n",
       "    </tr>\n",
       "  </tbody>\n",
       "</table>\n",
       "</div>"
      ]
     },
     "execution_count": 7,
     "metadata": {},
     "output_type": "execute_result"
    }
   ],
   "source": [
    "X.describe().T"
   ]
  },
  {
   "cell_type": "code",
   "execution_count": 8,
   "metadata": {},
   "outputs": [
    {
     "data": {
      "text/html": [
       "<div>\n",
       "<style scoped>\n",
       "    .dataframe tbody tr th:only-of-type {\n",
       "        vertical-align: middle;\n",
       "    }\n",
       "\n",
       "    .dataframe tbody tr th {\n",
       "        vertical-align: top;\n",
       "    }\n",
       "\n",
       "    .dataframe thead th {\n",
       "        text-align: right;\n",
       "    }\n",
       "</style>\n",
       "<table border=\"1\" class=\"dataframe\">\n",
       "  <thead>\n",
       "    <tr style=\"text-align: right;\">\n",
       "      <th></th>\n",
       "      <th>count</th>\n",
       "      <th>unique</th>\n",
       "      <th>top</th>\n",
       "      <th>freq</th>\n",
       "    </tr>\n",
       "  </thead>\n",
       "  <tbody>\n",
       "    <tr>\n",
       "      <th>address</th>\n",
       "      <td>8765</td>\n",
       "      <td>7481</td>\n",
       "      <td>HOROSHEVSKOE SH,V38       MOSKVA</td>\n",
       "      <td>7</td>\n",
       "    </tr>\n",
       "    <tr>\n",
       "      <th>address_rus</th>\n",
       "      <td>8345</td>\n",
       "      <td>6147</td>\n",
       "      <td>квартал В-13, городской округ Волгодонск, Рост...</td>\n",
       "      <td>10</td>\n",
       "    </tr>\n",
       "  </tbody>\n",
       "</table>\n",
       "</div>"
      ],
      "text/plain": [
       "<div>\n",
       "<style scoped>\n",
       "    .dataframe tbody tr th:only-of-type {\n",
       "        vertical-align: middle;\n",
       "    }\n",
       "\n",
       "    .dataframe tbody tr th {\n",
       "        vertical-align: top;\n",
       "    }\n",
       "\n",
       "    .dataframe thead th {\n",
       "        text-align: right;\n",
       "    }\n",
       "</style>\n",
       "<table border=\"1\" class=\"dataframe\">\n",
       "  <thead>\n",
       "    <tr style=\"text-align: right;\">\n",
       "      <th></th>\n",
       "      <th>count</th>\n",
       "      <th>unique</th>\n",
       "      <th>top</th>\n",
       "      <th>freq</th>\n",
       "    </tr>\n",
       "  </thead>\n",
       "  <tbody>\n",
       "    <tr>\n",
       "      <th>address</th>\n",
       "      <td>8765</td>\n",
       "      <td>7481</td>\n",
       "      <td>HOROSHEVSKOE SH,V38       MOSKVA</td>\n",
       "      <td>7</td>\n",
       "    </tr>\n",
       "    <tr>\n",
       "      <th>address_rus</th>\n",
       "      <td>8345</td>\n",
       "      <td>6147</td>\n",
       "      <td>квартал В-13, городской округ Волгодонск, Рост...</td>\n",
       "      <td>10</td>\n",
       "    </tr>\n",
       "  </tbody>\n",
       "</table>\n",
       "</div>"
      ]
     },
     "execution_count": 8,
     "metadata": {},
     "output_type": "execute_result"
    }
   ],
   "source": [
    "X.describe(include='object').T"
   ]
  },
  {
   "cell_type": "code",
   "execution_count": 9,
   "metadata": {},
   "outputs": [
    {
     "data": {
      "text/html": [
       "<div>\n",
       "<style scoped>\n",
       "    .dataframe tbody tr th:only-of-type {\n",
       "        vertical-align: middle;\n",
       "    }\n",
       "\n",
       "    .dataframe tbody tr th {\n",
       "        vertical-align: top;\n",
       "    }\n",
       "\n",
       "    .dataframe thead th {\n",
       "        text-align: right;\n",
       "    }\n",
       "</style>\n",
       "<table border=\"1\" class=\"dataframe\">\n",
       "  <thead>\n",
       "    <tr style=\"text-align: right;\">\n",
       "      <th></th>\n",
       "      <th>count</th>\n",
       "      <th>mean</th>\n",
       "      <th>std</th>\n",
       "      <th>min</th>\n",
       "      <th>25%</th>\n",
       "      <th>50%</th>\n",
       "      <th>75%</th>\n",
       "      <th>max</th>\n",
       "    </tr>\n",
       "  </thead>\n",
       "  <tbody>\n",
       "    <tr>\n",
       "      <th>id</th>\n",
       "      <td>6261.0</td>\n",
       "      <td>4419.120827</td>\n",
       "      <td>2547.213467</td>\n",
       "      <td>5.000000</td>\n",
       "      <td>2228.000000</td>\n",
       "      <td>4392.000000</td>\n",
       "      <td>6660.000000</td>\n",
       "      <td>8811.000000</td>\n",
       "    </tr>\n",
       "    <tr>\n",
       "      <th>atm_group</th>\n",
       "      <td>6261.0</td>\n",
       "      <td>4417.937230</td>\n",
       "      <td>2430.413287</td>\n",
       "      <td>32.000000</td>\n",
       "      <td>1942.000000</td>\n",
       "      <td>5478.000000</td>\n",
       "      <td>5478.000000</td>\n",
       "      <td>8083.000000</td>\n",
       "    </tr>\n",
       "    <tr>\n",
       "      <th>lat</th>\n",
       "      <td>5957.0</td>\n",
       "      <td>54.160017</td>\n",
       "      <td>4.346200</td>\n",
       "      <td>42.057080</td>\n",
       "      <td>52.248916</td>\n",
       "      <td>55.069638</td>\n",
       "      <td>56.122756</td>\n",
       "      <td>69.491912</td>\n",
       "    </tr>\n",
       "    <tr>\n",
       "      <th>long</th>\n",
       "      <td>5957.0</td>\n",
       "      <td>63.519692</td>\n",
       "      <td>33.020176</td>\n",
       "      <td>19.941530</td>\n",
       "      <td>37.858986</td>\n",
       "      <td>48.578510</td>\n",
       "      <td>84.951080</td>\n",
       "      <td>173.706490</td>\n",
       "    </tr>\n",
       "    <tr>\n",
       "      <th>target</th>\n",
       "      <td>6261.0</td>\n",
       "      <td>0.000715</td>\n",
       "      <td>0.085852</td>\n",
       "      <td>-0.145001</td>\n",
       "      <td>-0.061176</td>\n",
       "      <td>-0.015573</td>\n",
       "      <td>0.040149</td>\n",
       "      <td>0.218608</td>\n",
       "    </tr>\n",
       "  </tbody>\n",
       "</table>\n",
       "</div>"
      ],
      "text/plain": [
       "<div>\n",
       "<style scoped>\n",
       "    .dataframe tbody tr th:only-of-type {\n",
       "        vertical-align: middle;\n",
       "    }\n",
       "\n",
       "    .dataframe tbody tr th {\n",
       "        vertical-align: top;\n",
       "    }\n",
       "\n",
       "    .dataframe thead th {\n",
       "        text-align: right;\n",
       "    }\n",
       "</style>\n",
       "<table border=\"1\" class=\"dataframe\">\n",
       "  <thead>\n",
       "    <tr style=\"text-align: right;\">\n",
       "      <th></th>\n",
       "      <th>count</th>\n",
       "      <th>mean</th>\n",
       "      <th>std</th>\n",
       "      <th>min</th>\n",
       "      <th>25%</th>\n",
       "      <th>50%</th>\n",
       "      <th>75%</th>\n",
       "      <th>max</th>\n",
       "    </tr>\n",
       "  </thead>\n",
       "  <tbody>\n",
       "    <tr>\n",
       "      <th>id</th>\n",
       "      <td>6261.0</td>\n",
       "      <td>4419.120827</td>\n",
       "      <td>2547.213467</td>\n",
       "      <td>5.000000</td>\n",
       "      <td>2228.000000</td>\n",
       "      <td>4392.000000</td>\n",
       "      <td>6660.000000</td>\n",
       "      <td>8811.000000</td>\n",
       "    </tr>\n",
       "    <tr>\n",
       "      <th>atm_group</th>\n",
       "      <td>6261.0</td>\n",
       "      <td>4417.937230</td>\n",
       "      <td>2430.413287</td>\n",
       "      <td>32.000000</td>\n",
       "      <td>1942.000000</td>\n",
       "      <td>5478.000000</td>\n",
       "      <td>5478.000000</td>\n",
       "      <td>8083.000000</td>\n",
       "    </tr>\n",
       "    <tr>\n",
       "      <th>lat</th>\n",
       "      <td>5957.0</td>\n",
       "      <td>54.160017</td>\n",
       "      <td>4.346200</td>\n",
       "      <td>42.057080</td>\n",
       "      <td>52.248916</td>\n",
       "      <td>55.069638</td>\n",
       "      <td>56.122756</td>\n",
       "      <td>69.491912</td>\n",
       "    </tr>\n",
       "    <tr>\n",
       "      <th>long</th>\n",
       "      <td>5957.0</td>\n",
       "      <td>63.519692</td>\n",
       "      <td>33.020176</td>\n",
       "      <td>19.941530</td>\n",
       "      <td>37.858986</td>\n",
       "      <td>48.578510</td>\n",
       "      <td>84.951080</td>\n",
       "      <td>173.706490</td>\n",
       "    </tr>\n",
       "    <tr>\n",
       "      <th>target</th>\n",
       "      <td>6261.0</td>\n",
       "      <td>0.000715</td>\n",
       "      <td>0.085852</td>\n",
       "      <td>-0.145001</td>\n",
       "      <td>-0.061176</td>\n",
       "      <td>-0.015573</td>\n",
       "      <td>0.040149</td>\n",
       "      <td>0.218608</td>\n",
       "    </tr>\n",
       "  </tbody>\n",
       "</table>\n",
       "</div>"
      ]
     },
     "execution_count": 9,
     "metadata": {},
     "output_type": "execute_result"
    }
   ],
   "source": [
    "train.describe().T"
   ]
  },
  {
   "cell_type": "code",
   "execution_count": 10,
   "metadata": {},
   "outputs": [
    {
     "data": {
      "text/html": [
       "<div>\n",
       "<style scoped>\n",
       "    .dataframe tbody tr th:only-of-type {\n",
       "        vertical-align: middle;\n",
       "    }\n",
       "\n",
       "    .dataframe tbody tr th {\n",
       "        vertical-align: top;\n",
       "    }\n",
       "\n",
       "    .dataframe thead th {\n",
       "        text-align: right;\n",
       "    }\n",
       "</style>\n",
       "<table border=\"1\" class=\"dataframe\">\n",
       "  <thead>\n",
       "    <tr style=\"text-align: right;\">\n",
       "      <th></th>\n",
       "      <th>count</th>\n",
       "      <th>mean</th>\n",
       "      <th>std</th>\n",
       "      <th>min</th>\n",
       "      <th>25%</th>\n",
       "      <th>50%</th>\n",
       "      <th>75%</th>\n",
       "      <th>max</th>\n",
       "    </tr>\n",
       "  </thead>\n",
       "  <tbody>\n",
       "    <tr>\n",
       "      <th>id</th>\n",
       "      <td>2504.0</td>\n",
       "      <td>4368.244409</td>\n",
       "      <td>2530.932485</td>\n",
       "      <td>1.000000</td>\n",
       "      <td>2146.500000</td>\n",
       "      <td>4437.500000</td>\n",
       "      <td>6468.500000</td>\n",
       "      <td>8808.000000</td>\n",
       "    </tr>\n",
       "    <tr>\n",
       "      <th>atm_group</th>\n",
       "      <td>2504.0</td>\n",
       "      <td>4379.683506</td>\n",
       "      <td>2421.992871</td>\n",
       "      <td>32.000000</td>\n",
       "      <td>1942.000000</td>\n",
       "      <td>5478.000000</td>\n",
       "      <td>5478.000000</td>\n",
       "      <td>8083.000000</td>\n",
       "    </tr>\n",
       "    <tr>\n",
       "      <th>lat</th>\n",
       "      <td>2388.0</td>\n",
       "      <td>54.084141</td>\n",
       "      <td>4.287252</td>\n",
       "      <td>42.648594</td>\n",
       "      <td>52.208846</td>\n",
       "      <td>55.041477</td>\n",
       "      <td>56.102224</td>\n",
       "      <td>69.495093</td>\n",
       "    </tr>\n",
       "    <tr>\n",
       "      <th>long</th>\n",
       "      <td>2388.0</td>\n",
       "      <td>63.453926</td>\n",
       "      <td>32.206070</td>\n",
       "      <td>20.442763</td>\n",
       "      <td>37.809960</td>\n",
       "      <td>49.147009</td>\n",
       "      <td>84.947231</td>\n",
       "      <td>160.853844</td>\n",
       "    </tr>\n",
       "  </tbody>\n",
       "</table>\n",
       "</div>"
      ],
      "text/plain": [
       "<div>\n",
       "<style scoped>\n",
       "    .dataframe tbody tr th:only-of-type {\n",
       "        vertical-align: middle;\n",
       "    }\n",
       "\n",
       "    .dataframe tbody tr th {\n",
       "        vertical-align: top;\n",
       "    }\n",
       "\n",
       "    .dataframe thead th {\n",
       "        text-align: right;\n",
       "    }\n",
       "</style>\n",
       "<table border=\"1\" class=\"dataframe\">\n",
       "  <thead>\n",
       "    <tr style=\"text-align: right;\">\n",
       "      <th></th>\n",
       "      <th>count</th>\n",
       "      <th>mean</th>\n",
       "      <th>std</th>\n",
       "      <th>min</th>\n",
       "      <th>25%</th>\n",
       "      <th>50%</th>\n",
       "      <th>75%</th>\n",
       "      <th>max</th>\n",
       "    </tr>\n",
       "  </thead>\n",
       "  <tbody>\n",
       "    <tr>\n",
       "      <th>id</th>\n",
       "      <td>2504.0</td>\n",
       "      <td>4368.244409</td>\n",
       "      <td>2530.932485</td>\n",
       "      <td>1.000000</td>\n",
       "      <td>2146.500000</td>\n",
       "      <td>4437.500000</td>\n",
       "      <td>6468.500000</td>\n",
       "      <td>8808.000000</td>\n",
       "    </tr>\n",
       "    <tr>\n",
       "      <th>atm_group</th>\n",
       "      <td>2504.0</td>\n",
       "      <td>4379.683506</td>\n",
       "      <td>2421.992871</td>\n",
       "      <td>32.000000</td>\n",
       "      <td>1942.000000</td>\n",
       "      <td>5478.000000</td>\n",
       "      <td>5478.000000</td>\n",
       "      <td>8083.000000</td>\n",
       "    </tr>\n",
       "    <tr>\n",
       "      <th>lat</th>\n",
       "      <td>2388.0</td>\n",
       "      <td>54.084141</td>\n",
       "      <td>4.287252</td>\n",
       "      <td>42.648594</td>\n",
       "      <td>52.208846</td>\n",
       "      <td>55.041477</td>\n",
       "      <td>56.102224</td>\n",
       "      <td>69.495093</td>\n",
       "    </tr>\n",
       "    <tr>\n",
       "      <th>long</th>\n",
       "      <td>2388.0</td>\n",
       "      <td>63.453926</td>\n",
       "      <td>32.206070</td>\n",
       "      <td>20.442763</td>\n",
       "      <td>37.809960</td>\n",
       "      <td>49.147009</td>\n",
       "      <td>84.947231</td>\n",
       "      <td>160.853844</td>\n",
       "    </tr>\n",
       "  </tbody>\n",
       "</table>\n",
       "</div>"
      ]
     },
     "execution_count": 10,
     "metadata": {},
     "output_type": "execute_result"
    }
   ],
   "source": [
    "test.describe().T"
   ]
  },
  {
   "cell_type": "markdown",
   "metadata": {},
   "source": [
    "### Feature engineering"
   ]
  },
  {
   "cell_type": "code",
   "execution_count": 11,
   "metadata": {},
   "outputs": [],
   "source": [
    "use_columns = [\n",
    "    'id',\n",
    "    'atm_group',\n",
    "    'lat',\n",
    "    'long',\n",
    "]\n",
    "\n",
    "functions = [\n",
    "    pd.DataFrame.min,\n",
    "    pd.DataFrame.max,\n",
    "    pd.DataFrame.mean,\n",
    "    pd.DataFrame.median,\n",
    "]"
   ]
  },
  {
   "cell_type": "code",
   "execution_count": 12,
   "metadata": {
    "collapsed": false
   },
   "outputs": [
    {
     "data": {
      "text/plain": [
       "HBox(children=(IntProgress(value=0, max=4), HTML(value='')))"
      ]
     },
     "execution_count": 0,
     "metadata": {},
     "output_type": "execute_result"
    }
   ],
   "source": [
    "for col in tqdm_notebook(use_columns):\n",
    "    for f in functions:\n",
    "        features = X[use_columns].groupby(col, as_index=False).apply(f)\n",
    "        X = pd.merge(X, features, how='left', on=col, suffixes=('', '_{}'.format(f)))"
   ]
  },
  {
   "cell_type": "code",
   "execution_count": 13,
   "metadata": {},
   "outputs": [],
   "source": [
    "for col in ['address', 'address_rus']:\n",
    "    f = pd.DataFrame.count\n",
    "    features = X[['id', col]].groupby(col)[['id']].apply(f).reset_index()\n",
    "    X = pd.merge(X, features, how='left', on=col, suffixes=('', '_{}'.format(f)))"
   ]
  },
  {
   "cell_type": "code",
   "execution_count": 14,
   "metadata": {},
   "outputs": [],
   "source": [
    "dots = X[['lat','long']].dropna()"
   ]
  },
  {
   "cell_type": "code",
   "execution_count": 15,
   "metadata": {
    "collapsed": false
   },
   "outputs": [
    {
     "data": {
      "text/plain": [
       "KNeighborsClassifier(algorithm='auto', leaf_size=30,\n           metric=<function distance at 0x7fb8bbe72840>,\n           metric_params=None, n_jobs=None, n_neighbors=5, p=2,\n           weights='uniform')"
      ]
     },
     "execution_count": 15,
     "metadata": {},
     "output_type": "execute_result"
    }
   ],
   "source": [
    "knc = KNeighborsClassifier(metric=distance)\n",
    "knc.fit(X=dots, y=np.ones(dots.shape[0]))"
   ]
  },
  {
   "cell_type": "code",
   "execution_count": 16,
   "metadata": {},
   "outputs": [],
   "source": [
    "distances, indexes = knc.kneighbors(X=dots,n_neighbors=6,)"
   ]
  },
  {
   "cell_type": "code",
   "execution_count": 17,
   "metadata": {},
   "outputs": [],
   "source": [
    "for i in range(1,distances.shape[1]):\n",
    "    dots['distance_%s'%i] = distances[:,i]\n",
    "    dots['indexes_%s'%i] = indexes[:,i]"
   ]
  },
  {
   "cell_type": "code",
   "execution_count": 18,
   "metadata": {},
   "outputs": [],
   "source": [
    "dots['mean'] = dots.iloc[:,dots.columns.str.contains('distance')].mean(axis=1)"
   ]
  },
  {
   "cell_type": "code",
   "execution_count": 19,
   "metadata": {},
   "outputs": [],
   "source": [
    "X = pd.concat([X,dots], axis=1)"
   ]
  },
  {
   "cell_type": "markdown",
   "metadata": {},
   "source": [
    "### Город размещения"
   ]
  },
  {
   "cell_type": "code",
   "execution_count": 20,
   "metadata": {},
   "outputs": [],
   "source": [
    "X['city'] = X[~X.address_rus.isnull()].address_rus.apply(lambda x: x.split(',')[2]) "
   ]
  },
  {
   "cell_type": "code",
   "execution_count": 21,
   "metadata": {},
   "outputs": [],
   "source": [
    "rare_cities = X.city.value_counts()[(X.city.value_counts() < 20) ==True].index"
   ]
  },
  {
   "cell_type": "code",
   "execution_count": 22,
   "metadata": {},
   "outputs": [],
   "source": [
    "X.city = X.city.apply(lambda x: 'RARE' if x in rare_cities else x)"
   ]
  },
  {
   "cell_type": "code",
   "execution_count": 23,
   "metadata": {},
   "outputs": [],
   "source": [
    "X.city= X.city.rank().fillna(-1)"
   ]
  },
  {
   "cell_type": "code",
   "execution_count": 24,
   "metadata": {},
   "outputs": [],
   "source": [
    "X_new = X.loc[X.isTrain].drop([\n",
    "    'target',\n",
    "    'isTrain',\n",
    "    'address',\n",
    "    'address_rus',\n",
    "], axis=1)\n",
    "\n",
    "Y_new = X.loc[X.isTrain, 'target']"
   ]
  },
  {
   "cell_type": "code",
   "execution_count": 25,
   "metadata": {},
   "outputs": [],
   "source": [
    "X_train, X_valid, Y_train, Y_valid = train_test_split(X_new, Y_new, test_size=0.2, random_state=42)"
   ]
  },
  {
   "cell_type": "code",
   "execution_count": 26,
   "metadata": {},
   "outputs": [],
   "source": [
    "gbm = lgb.LGBMRegressor(\n",
    "                            objective = 'regression',  \n",
    "                            max_depth = -1,\n",
    "                            colsample_bytree = 0.8,\n",
    "                            subsample = 0.8, \n",
    "                            learning_rate = 0.01,\n",
    "                            n_estimators = 100000,\n",
    "                            random_state=42,\n",
    "                        )"
   ]
  },
  {
   "cell_type": "code",
   "execution_count": 27,
   "metadata": {},
   "outputs": [
    {
     "name": "stdout",
     "output_type": "stream",
     "text": [
      "[1]\tvalid_0's rmse: 0.0848201\tvalid_0's l2: 0.00719445\nTraining until validation scores don't improve for 5 rounds.\n[2]\tvalid_0's rmse: 0.084216\tvalid_0's l2: 0.00709234\n[3]\tvalid_0's rmse: 0.0836174\tvalid_0's l2: 0.00699187\n[4]\tvalid_0's rmse: 0.0830261\tvalid_0's l2: 0.00689334\n[5]\tvalid_0's rmse: 0.0824391\tvalid_0's l2: 0.0067962\n[6]\tvalid_0's rmse: 0.0818653\tvalid_0's l2: 0.00670193\n[7]\tvalid_0's rmse: 0.0813013\tvalid_0's l2: 0.0066099\n[8]\tvalid_0's rmse: 0.0807393\tvalid_0's l2: 0.00651883\n[9]\tvalid_0's rmse: 0.0801842\tvalid_0's l2: 0.00642951\n[10]\tvalid_0's rmse: 0.0796421\tvalid_0's l2: 0.00634286\n[11]\tvalid_0's rmse: 0.0791023\tvalid_0's l2: 0.00625718\n[12]\tvalid_0's rmse: 0.0785699\tvalid_0's l2: 0.00617322\n[13]\tvalid_0's rmse: 0.0780434\tvalid_0's l2: 0.00609077\n[14]\tvalid_0's rmse: 0.077524\tvalid_0's l2: 0.00600997\n"
     ]
    },
    {
     "name": "stdout",
     "output_type": "stream",
     "text": [
      "[15]\tvalid_0's rmse: 0.0770212\tvalid_0's l2: 0.00593227\n[16]\tvalid_0's rmse: 0.0765133\tvalid_0's l2: 0.00585429\n[17]\tvalid_0's rmse: 0.0760176\tvalid_0's l2: 0.00577868\n[18]\tvalid_0's rmse: 0.075532\tvalid_0's l2: 0.00570508\n"
     ]
    },
    {
     "name": "stdout",
     "output_type": "stream",
     "text": [
      "[19]\tvalid_0's rmse: 0.075052\tvalid_0's l2: 0.0056328\n[20]\tvalid_0's rmse: 0.0745773\tvalid_0's l2: 0.00556177\n[21]\tvalid_0's rmse: 0.0741108\tvalid_0's l2: 0.00549241\n[22]\tvalid_0's rmse: 0.0736454\tvalid_0's l2: 0.00542364\n[23]\tvalid_0's rmse: 0.0731898\tvalid_0's l2: 0.00535674\n[24]\tvalid_0's rmse: 0.0727459\tvalid_0's l2: 0.00529197\n[25]\tvalid_0's rmse: 0.0723035\tvalid_0's l2: 0.0052278\n[26]\tvalid_0's rmse: 0.07186\tvalid_0's l2: 0.00516386\n[27]\tvalid_0's rmse: 0.0714283\tvalid_0's l2: 0.005102\n[28]\tvalid_0's rmse: 0.0709993\tvalid_0's l2: 0.00504089\n[29]\tvalid_0's rmse: 0.0705772\tvalid_0's l2: 0.00498114\n"
     ]
    },
    {
     "name": "stdout",
     "output_type": "stream",
     "text": [
      "[30]\tvalid_0's rmse: 0.0701567\tvalid_0's l2: 0.00492196\n[31]\tvalid_0's rmse: 0.0697482\tvalid_0's l2: 0.00486481\n[32]\tvalid_0's rmse: 0.0693456\tvalid_0's l2: 0.00480881\n[33]\tvalid_0's rmse: 0.068947\tvalid_0's l2: 0.00475369\n[34]\tvalid_0's rmse: 0.0685584\tvalid_0's l2: 0.00470025\n[35]\tvalid_0's rmse: 0.0681727\tvalid_0's l2: 0.00464752\n[36]\tvalid_0's rmse: 0.0677978\tvalid_0's l2: 0.00459654\n[37]\tvalid_0's rmse: 0.0674229\tvalid_0's l2: 0.00454585\n[38]\tvalid_0's rmse: 0.0670514\tvalid_0's l2: 0.00449589\n[39]\tvalid_0's rmse: 0.0666892\tvalid_0's l2: 0.00444746\n[40]\tvalid_0's rmse: 0.0663301\tvalid_0's l2: 0.00439968\n[41]\tvalid_0's rmse: 0.0659774\tvalid_0's l2: 0.00435302\n[42]\tvalid_0's rmse: 0.0656297\tvalid_0's l2: 0.00430726\n[43]\tvalid_0's rmse: 0.0652848\tvalid_0's l2: 0.00426211\n[44]\tvalid_0's rmse: 0.0649494\tvalid_0's l2: 0.00421843\n[45]\tvalid_0's rmse: 0.0646154\tvalid_0's l2: 0.00417515\n[46]\tvalid_0's rmse: 0.064288\tvalid_0's l2: 0.00413295\n[47]\tvalid_0's rmse: 0.0639659\tvalid_0's l2: 0.00409164\n[48]\tvalid_0's rmse: 0.0636501\tvalid_0's l2: 0.00405134\n[49]\tvalid_0's rmse: 0.0633351\tvalid_0's l2: 0.00401134\n[50]\tvalid_0's rmse: 0.0630295\tvalid_0's l2: 0.00397271"
     ]
    },
    {
     "name": "stdout",
     "output_type": "stream",
     "text": [
      "\n[51]\tvalid_0's rmse: 0.0627274\tvalid_0's l2: 0.00393473\n[52]\tvalid_0's rmse: 0.062431\tvalid_0's l2: 0.00389763\n[53]\tvalid_0's rmse: 0.0621385\tvalid_0's l2: 0.0038612\n[54]\tvalid_0's rmse: 0.0618509\tvalid_0's l2: 0.00382553\n[55]\tvalid_0's rmse: 0.0615691\tvalid_0's l2: 0.00379075\n[56]\tvalid_0's rmse: 0.0612883\tvalid_0's l2: 0.00375626\n[57]\tvalid_0's rmse: 0.0610099\tvalid_0's l2: 0.00372221\n[58]\tvalid_0's rmse: 0.0607288\tvalid_0's l2: 0.00368799\n[59]\tvalid_0's rmse: 0.0604569\tvalid_0's l2: 0.00365504\n[60]\tvalid_0's rmse: 0.0601874\tvalid_0's l2: 0.00362252\n[61]\tvalid_0's rmse: 0.059923\tvalid_0's l2: 0.00359077\n[62]\tvalid_0's rmse: 0.0596658\tvalid_0's l2: 0.00356\n"
     ]
    },
    {
     "name": "stdout",
     "output_type": "stream",
     "text": [
      "[63]\tvalid_0's rmse: 0.059416\tvalid_0's l2: 0.00353026\n[64]\tvalid_0's rmse: 0.0591717\tvalid_0's l2: 0.00350129\n[65]\tvalid_0's rmse: 0.0589231\tvalid_0's l2: 0.00347194\n[66]\tvalid_0's rmse: 0.058682\tvalid_0's l2: 0.00344358\n[67]\tvalid_0's rmse: 0.0584512\tvalid_0's l2: 0.00341655\n[68]\tvalid_0's rmse: 0.0582195\tvalid_0's l2: 0.0033895\n[69]\tvalid_0's rmse: 0.0579879\tvalid_0's l2: 0.0033626\n[70]\tvalid_0's rmse: 0.057757\tvalid_0's l2: 0.00333587\n[71]\tvalid_0's rmse: 0.0575377\tvalid_0's l2: 0.00331059\n[72]\tvalid_0's rmse: 0.0573215\tvalid_0's l2: 0.00328575\n[73]\tvalid_0's rmse: 0.0571027\tvalid_0's l2: 0.00326072\n[74]\tvalid_0's rmse: 0.0568917\tvalid_0's l2: 0.00323666\n[75]\tvalid_0's rmse: 0.0566887\tvalid_0's l2: 0.00321361\n[76]\tvalid_0's rmse: 0.0564803\tvalid_0's l2: 0.00319002\n[77]\tvalid_0's rmse: 0.056282\tvalid_0's l2: 0.00316767\n[78]\tvalid_0's rmse: 0.0560824\tvalid_0's l2: 0.00314523\n[79]\tvalid_0's rmse: 0.0558867\tvalid_0's l2: 0.00312333\n"
     ]
    },
    {
     "name": "stdout",
     "output_type": "stream",
     "text": [
      "[80]\tvalid_0's rmse: 0.0556948\tvalid_0's l2: 0.00310191\n[81]\tvalid_0's rmse: 0.0555028\tvalid_0's l2: 0.00308056\n[82]\tvalid_0's rmse: 0.0553116\tvalid_0's l2: 0.00305937\n[83]\tvalid_0's rmse: 0.0551282\tvalid_0's l2: 0.00303912\n[84]\tvalid_0's rmse: 0.0549443\tvalid_0's l2: 0.00301888\n[85]\tvalid_0's rmse: 0.0547712\tvalid_0's l2: 0.00299988\n[86]\tvalid_0's rmse: 0.0545976\tvalid_0's l2: 0.00298089\n[87]\tvalid_0's rmse: 0.0544253\tvalid_0's l2: 0.00296211\n[88]\tvalid_0's rmse: 0.0542514\tvalid_0's l2: 0.00294321\n[89]\tvalid_0's rmse: 0.0540828\tvalid_0's l2: 0.00292495\n[90]\tvalid_0's rmse: 0.0539194\tvalid_0's l2: 0.0029073\n[91]\tvalid_0's rmse: 0.0537539\tvalid_0's l2: 0.00288948\n[92]\tvalid_0's rmse: 0.0535957\tvalid_0's l2: 0.0028725\n[93]\tvalid_0's rmse: 0.0534415\tvalid_0's l2: 0.00285599\n[94]\tvalid_0's rmse: 0.0532919\tvalid_0's l2: 0.00284002\n[95]\tvalid_0's rmse: 0.0531398\tvalid_0's l2: 0.00282384\n[96]\tvalid_0's rmse: 0.0529875\tvalid_0's l2: 0.00280768\n[97]\tvalid_0's rmse: 0.0528454\tvalid_0's l2: 0.00279264\n[98]\tvalid_0's rmse: 0.0527015\tvalid_0's l2: 0.00277744\n[99]\tvalid_0's rmse: 0.0525634\tvalid_0's l2: 0.00276291\n[100]\tvalid_0's rmse: 0.0524238\tvalid_0's l2: 0.00274825\n[101]\tvalid_0's rmse: 0.0522893\tvalid_0's l2: 0.00273418\n[102]\tvalid_0's rmse: 0.0521599\tvalid_0's l2: 0.00272066\n"
     ]
    },
    {
     "name": "stdout",
     "output_type": "stream",
     "text": [
      "[103]\tvalid_0's rmse: 0.0520192\tvalid_0's l2: 0.002706\n[104]\tvalid_0's rmse: 0.0518913\tvalid_0's l2: 0.0026927\n[105]\tvalid_0's rmse: 0.0517581\tvalid_0's l2: 0.0026789\n[106]\tvalid_0's rmse: 0.0516293\tvalid_0's l2: 0.00266558\n[107]\tvalid_0's rmse: 0.0515043\tvalid_0's l2: 0.00265269\n[108]\tvalid_0's rmse: 0.0513825\tvalid_0's l2: 0.00264016\n[109]\tvalid_0's rmse: 0.0512641\tvalid_0's l2: 0.002628\n[110]\tvalid_0's rmse: 0.0511447\tvalid_0's l2: 0.00261578\n[111]\tvalid_0's rmse: 0.0510292\tvalid_0's l2: 0.00260398\n[112]\tvalid_0's rmse: 0.0509203\tvalid_0's l2: 0.00259288\n[113]\tvalid_0's rmse: 0.0508035\tvalid_0's l2: 0.00258099\n[114]\tvalid_0's rmse: 0.0506916\tvalid_0's l2: 0.00256964\n[115]\tvalid_0's rmse: 0.0505789\tvalid_0's l2: 0.00255822\n[116]\tvalid_0's rmse: 0.0504727\tvalid_0's l2: 0.0025475\n[117]\tvalid_0's rmse: 0.0503695\tvalid_0's l2: 0.00253709\n[118]\tvalid_0's rmse: 0.0502694\tvalid_0's l2: 0.00252702\n[119]\tvalid_0's rmse: 0.050168\tvalid_0's l2: 0.00251682\n[120]\tvalid_0's rmse: 0.0500636\tvalid_0's l2: 0.00250637\n[121]\tvalid_0's rmse: 0.0499634\tvalid_0's l2: 0.00249635\n[122]\tvalid_0's rmse: 0.0498665\tvalid_0's l2: 0.00248666\n[123]\tvalid_0's rmse: 0.0497755\tvalid_0's l2: 0.0024776\n"
     ]
    },
    {
     "name": "stdout",
     "output_type": "stream",
     "text": [
      "[124]\tvalid_0's rmse: 0.0496812\tvalid_0's l2: 0.00246822\n[125]\tvalid_0's rmse: 0.0495974\tvalid_0's l2: 0.0024599\n[126]\tvalid_0's rmse: 0.0495088\tvalid_0's l2: 0.00245112\n[127]\tvalid_0's rmse: 0.0494197\tvalid_0's l2: 0.0024423\n[128]\tvalid_0's rmse: 0.0493307\tvalid_0's l2: 0.00243352\n[129]\tvalid_0's rmse: 0.0492437\tvalid_0's l2: 0.00242494\n[130]\tvalid_0's rmse: 0.0491617\tvalid_0's l2: 0.00241687\n[131]\tvalid_0's rmse: 0.0490808\tvalid_0's l2: 0.00240892\n[132]\tvalid_0's rmse: 0.0490008\tvalid_0's l2: 0.00240108\n[133]\tvalid_0's rmse: 0.0489248\tvalid_0's l2: 0.00239363\n[134]\tvalid_0's rmse: 0.0488569\tvalid_0's l2: 0.002387\n[135]\tvalid_0's rmse: 0.0487804\tvalid_0's l2: 0.00237953\n[136]\tvalid_0's rmse: 0.0487092\tvalid_0's l2: 0.00237259\n[137]\tvalid_0's rmse: 0.0486379\tvalid_0's l2: 0.00236564\n[138]\tvalid_0's rmse: 0.0485676\tvalid_0's l2: 0.00235881\n[139]\tvalid_0's rmse: 0.0484989\tvalid_0's l2: 0.00235214\n[140]\tvalid_0's rmse: 0.0484255\tvalid_0's l2: 0.00234503\n[141]\tvalid_0's rmse: 0.0483558\tvalid_0's l2: 0.00233829\n[142]\tvalid_0's rmse: 0.0482912\tvalid_0's l2: 0.00233204\n[143]\tvalid_0's rmse: 0.048234\tvalid_0's l2: 0.00232652\n"
     ]
    },
    {
     "name": "stdout",
     "output_type": "stream",
     "text": [
      "[144]\tvalid_0's rmse: 0.0481697\tvalid_0's l2: 0.00232032\n[145]\tvalid_0's rmse: 0.0481022\tvalid_0's l2: 0.00231382\n[146]\tvalid_0's rmse: 0.0480363\tvalid_0's l2: 0.00230748\n[147]\tvalid_0's rmse: 0.0479785\tvalid_0's l2: 0.00230194\n[148]\tvalid_0's rmse: 0.0479256\tvalid_0's l2: 0.00229686\n[149]\tvalid_0's rmse: 0.0478706\tvalid_0's l2: 0.00229159\n[150]\tvalid_0's rmse: 0.0478192\tvalid_0's l2: 0.00228667\n[151]\tvalid_0's rmse: 0.0477631\tvalid_0's l2: 0.00228132\n[152]\tvalid_0's rmse: 0.0477104\tvalid_0's l2: 0.00227628\n[153]\tvalid_0's rmse: 0.0476545\tvalid_0's l2: 0.00227096\n[154]\tvalid_0's rmse: 0.0476029\tvalid_0's l2: 0.00226603\n[155]\tvalid_0's rmse: 0.0475537\tvalid_0's l2: 0.00226135\n[156]\tvalid_0's rmse: 0.047507\tvalid_0's l2: 0.00225692\n[157]\tvalid_0's rmse: 0.0474611\tvalid_0's l2: 0.00225255\n[158]\tvalid_0's rmse: 0.0474082\tvalid_0's l2: 0.00224753\n[159]\tvalid_0's rmse: 0.0473571\tvalid_0's l2: 0.0022427\n[160]\tvalid_0's rmse: 0.0473127\tvalid_0's l2: 0.00223849\n[161]\tvalid_0's rmse: 0.0472619\tvalid_0's l2: 0.00223369\n[162]\tvalid_0's rmse: 0.0472175\tvalid_0's l2: 0.00222949\n[163]\tvalid_0's rmse: 0.047171\tvalid_0's l2: 0.0022251\n[164]\tvalid_0's rmse: 0.0471277\tvalid_0's l2: 0.00222102\n[165]\tvalid_0's rmse: 0.047083\tvalid_0's l2: 0.00221681\n[166]\tvalid_0's rmse: 0.047038\tvalid_0's l2: 0.00221257\n[167]\tvalid_0's rmse: 0.0469968\tvalid_0's l2: 0.0022087\n"
     ]
    },
    {
     "name": "stdout",
     "output_type": "stream",
     "text": [
      "[168]\tvalid_0's rmse: 0.0469532\tvalid_0's l2: 0.0022046\n[169]\tvalid_0's rmse: 0.0469142\tvalid_0's l2: 0.00220095\n[170]\tvalid_0's rmse: 0.046875\tvalid_0's l2: 0.00219727\n[171]\tvalid_0's rmse: 0.0468378\tvalid_0's l2: 0.00219378\n[172]\tvalid_0's rmse: 0.0468045\tvalid_0's l2: 0.00219066\n[173]\tvalid_0's rmse: 0.0467592\tvalid_0's l2: 0.00218643\n[174]\tvalid_0's rmse: 0.046722\tvalid_0's l2: 0.00218295\n[175]\tvalid_0's rmse: 0.0466863\tvalid_0's l2: 0.00217961\n[176]\tvalid_0's rmse: 0.046644\tvalid_0's l2: 0.00217566\n[177]\tvalid_0's rmse: 0.04661\tvalid_0's l2: 0.00217249\n[178]\tvalid_0's rmse: 0.0465746\tvalid_0's l2: 0.00216919\n[179]\tvalid_0's rmse: 0.0465362\tvalid_0's l2: 0.00216562\n[180]\tvalid_0's rmse: 0.0465004\tvalid_0's l2: 0.00216229\n[181]\tvalid_0's rmse: 0.0464659\tvalid_0's l2: 0.00215908\n[182]\tvalid_0's rmse: 0.0464282\tvalid_0's l2: 0.00215558\n[183]\tvalid_0's rmse: 0.0463977\tvalid_0's l2: 0.00215275\n[184]\tvalid_0's rmse: 0.0463641\tvalid_0's l2: 0.00214963\n[185]\tvalid_0's rmse: 0.0463299\tvalid_0's l2: 0.00214646\n[186]\tvalid_0's rmse: 0.0462999\tvalid_0's l2: 0.00214368\n[187]\tvalid_0's rmse: 0.0462669\tvalid_0's l2: 0.00214063\n[188]\tvalid_0's rmse: 0.0462393\tvalid_0's l2: 0.00213807\n[189]\tvalid_0's rmse: 0.0462073\tvalid_0's l2: 0.00213512\n[190]\tvalid_0's rmse: 0.0461739\tvalid_0's l2: 0.00213203\n[191]\tvalid_0's rmse: 0.0461443\tvalid_0's l2: 0.00212929\n[192]\tvalid_0's rmse: 0.0461124\tvalid_0's l2: 0.00212635\n"
     ]
    },
    {
     "name": "stdout",
     "output_type": "stream",
     "text": [
      "[193]\tvalid_0's rmse: 0.0460836\tvalid_0's l2: 0.0021237\n[194]\tvalid_0's rmse: 0.0460577\tvalid_0's l2: 0.00212132\n[195]\tvalid_0's rmse: 0.0460247\tvalid_0's l2: 0.00211827\n[196]\tvalid_0's rmse: 0.0459967\tvalid_0's l2: 0.0021157\n[197]\tvalid_0's rmse: 0.0459659\tvalid_0's l2: 0.00211287\n[198]\tvalid_0's rmse: 0.0459428\tvalid_0's l2: 0.00211074\n[199]\tvalid_0's rmse: 0.045916\tvalid_0's l2: 0.00210828\n[200]\tvalid_0's rmse: 0.0458891\tvalid_0's l2: 0.00210581\n[201]\tvalid_0's rmse: 0.0458636\tvalid_0's l2: 0.00210347\n[202]\tvalid_0's rmse: 0.0458391\tvalid_0's l2: 0.00210123\n[203]\tvalid_0's rmse: 0.0458103\tvalid_0's l2: 0.00209858\n[204]\tvalid_0's rmse: 0.0457912\tvalid_0's l2: 0.00209684\n[205]\tvalid_0's rmse: 0.0457691\tvalid_0's l2: 0.00209481\n[206]\tvalid_0's rmse: 0.0457469\tvalid_0's l2: 0.00209278\n[207]\tvalid_0's rmse: 0.0457322\tvalid_0's l2: 0.00209143\n[208]\tvalid_0's rmse: 0.0457072\tvalid_0's l2: 0.00208915\n[209]\tvalid_0's rmse: 0.0456899\tvalid_0's l2: 0.00208757\n[210]\tvalid_0's rmse: 0.0456698\tvalid_0's l2: 0.00208573\n[211]\tvalid_0's rmse: 0.045645\tvalid_0's l2: 0.00208347\n[212]\tvalid_0's rmse: 0.0456186\tvalid_0's l2: 0.00208106\n[213]\tvalid_0's rmse: 0.0455915\tvalid_0's l2: 0.00207859\n"
     ]
    },
    {
     "name": "stdout",
     "output_type": "stream",
     "text": [
      "[214]\tvalid_0's rmse: 0.0455763\tvalid_0's l2: 0.0020772\n[215]\tvalid_0's rmse: 0.0455571\tvalid_0's l2: 0.00207545\n[216]\tvalid_0's rmse: 0.045542\tvalid_0's l2: 0.00207408\n[217]\tvalid_0's rmse: 0.0455195\tvalid_0's l2: 0.00207203\n[218]\tvalid_0's rmse: 0.0455038\tvalid_0's l2: 0.00207059\n[219]\tvalid_0's rmse: 0.0454872\tvalid_0's l2: 0.00206909\n[220]\tvalid_0's rmse: 0.0454629\tvalid_0's l2: 0.00206688\n[221]\tvalid_0's rmse: 0.0454401\tvalid_0's l2: 0.0020648\n[222]\tvalid_0's rmse: 0.0454197\tvalid_0's l2: 0.00206295\n[223]\tvalid_0's rmse: 0.045398\tvalid_0's l2: 0.00206098\n[224]\tvalid_0's rmse: 0.0453857\tvalid_0's l2: 0.00205987\n[225]\tvalid_0's rmse: 0.0453655\tvalid_0's l2: 0.00205803\n[226]\tvalid_0's rmse: 0.0453478\tvalid_0's l2: 0.00205642\n[227]\tvalid_0's rmse: 0.0453303\tvalid_0's l2: 0.00205484\n[228]\tvalid_0's rmse: 0.0453069\tvalid_0's l2: 0.00205272\n[229]\tvalid_0's rmse: 0.0452925\tvalid_0's l2: 0.00205141\n[230]\tvalid_0's rmse: 0.0452719\tvalid_0's l2: 0.00204955\n[231]\tvalid_0's rmse: 0.0452536\tvalid_0's l2: 0.00204788\n[232]\tvalid_0's rmse: 0.0452418\tvalid_0's l2: 0.00204682\n[233]\tvalid_0's rmse: 0.045223\tvalid_0's l2: 0.00204512\n[234]\tvalid_0's rmse: 0.0452094\tvalid_0's l2: 0.00204389\n[235]\tvalid_0's rmse: 0.045192\tvalid_0's l2: 0.00204231\n"
     ]
    },
    {
     "name": "stdout",
     "output_type": "stream",
     "text": [
      "[236]\tvalid_0's rmse: 0.0451783\tvalid_0's l2: 0.00204108\n[237]\tvalid_0's rmse: 0.0451614\tvalid_0's l2: 0.00203955\n[238]\tvalid_0's rmse: 0.0451481\tvalid_0's l2: 0.00203835\n[239]\tvalid_0's rmse: 0.0451322\tvalid_0's l2: 0.00203691\n[240]\tvalid_0's rmse: 0.0451119\tvalid_0's l2: 0.00203508\n[241]\tvalid_0's rmse: 0.0450992\tvalid_0's l2: 0.00203394\n[242]\tvalid_0's rmse: 0.0450797\tvalid_0's l2: 0.00203218\n[243]\tvalid_0's rmse: 0.0450665\tvalid_0's l2: 0.00203099\n[244]\tvalid_0's rmse: 0.0450514\tvalid_0's l2: 0.00202963\n"
     ]
    },
    {
     "name": "stdout",
     "output_type": "stream",
     "text": [
      "[245]\tvalid_0's rmse: 0.0450375\tvalid_0's l2: 0.00202838\n[246]\tvalid_0's rmse: 0.0450263\tvalid_0's l2: 0.00202737\n[247]\tvalid_0's rmse: 0.045009\tvalid_0's l2: 0.00202581\n[248]\tvalid_0's rmse: 0.0449989\tvalid_0's l2: 0.0020249\n[249]\tvalid_0's rmse: 0.0449816\tvalid_0's l2: 0.00202334\n[250]\tvalid_0's rmse: 0.0449645\tvalid_0's l2: 0.00202181\n[251]\tvalid_0's rmse: 0.0449503\tvalid_0's l2: 0.00202053\n[252]\tvalid_0's rmse: 0.0449354\tvalid_0's l2: 0.00201919\n[253]\tvalid_0's rmse: 0.0449177\tvalid_0's l2: 0.0020176\n[254]\tvalid_0's rmse: 0.0449047\tvalid_0's l2: 0.00201643\n[255]\tvalid_0's rmse: 0.044889\tvalid_0's l2: 0.00201503\n"
     ]
    },
    {
     "name": "stdout",
     "output_type": "stream",
     "text": [
      "[256]\tvalid_0's rmse: 0.0448773\tvalid_0's l2: 0.00201398\n[257]\tvalid_0's rmse: 0.0448582\tvalid_0's l2: 0.00201226\n[258]\tvalid_0's rmse: 0.0448403\tvalid_0's l2: 0.00201065\n[259]\tvalid_0's rmse: 0.0448273\tvalid_0's l2: 0.00200949\n[260]\tvalid_0's rmse: 0.0448117\tvalid_0's l2: 0.00200809\n[261]\tvalid_0's rmse: 0.0448004\tvalid_0's l2: 0.00200707\n[262]\tvalid_0's rmse: 0.0447852\tvalid_0's l2: 0.00200572\n[263]\tvalid_0's rmse: 0.0447653\tvalid_0's l2: 0.00200393\n[264]\tvalid_0's rmse: 0.0447543\tvalid_0's l2: 0.00200295\n[265]\tvalid_0's rmse: 0.0447392\tvalid_0's l2: 0.0020016\n[266]\tvalid_0's rmse: 0.0447292\tvalid_0's l2: 0.0020007\n[267]\tvalid_0's rmse: 0.0447091\tvalid_0's l2: 0.00199891\n[268]\tvalid_0's rmse: 0.0446969\tvalid_0's l2: 0.00199782\n"
     ]
    },
    {
     "name": "stdout",
     "output_type": "stream",
     "text": [
      "[269]\tvalid_0's rmse: 0.0446863\tvalid_0's l2: 0.00199687\n[270]\tvalid_0's rmse: 0.0446749\tvalid_0's l2: 0.00199585\n[271]\tvalid_0's rmse: 0.0446597\tvalid_0's l2: 0.00199449\n[272]\tvalid_0's rmse: 0.0446449\tvalid_0's l2: 0.00199317\n[273]\tvalid_0's rmse: 0.0446359\tvalid_0's l2: 0.00199237\n[274]\tvalid_0's rmse: 0.0446282\tvalid_0's l2: 0.00199168\n[275]\tvalid_0's rmse: 0.0446112\tvalid_0's l2: 0.00199016\n[276]\tvalid_0's rmse: 0.0446021\tvalid_0's l2: 0.00198935\n[277]\tvalid_0's rmse: 0.0445946\tvalid_0's l2: 0.00198868\n[278]\tvalid_0's rmse: 0.0445816\tvalid_0's l2: 0.00198752\n[279]\tvalid_0's rmse: 0.0445718\tvalid_0's l2: 0.00198664\n[280]\tvalid_0's rmse: 0.044566\tvalid_0's l2: 0.00198613\n[281]\tvalid_0's rmse: 0.0445506\tvalid_0's l2: 0.00198475"
     ]
    },
    {
     "name": "stdout",
     "output_type": "stream",
     "text": [
      "\n[282]\tvalid_0's rmse: 0.0445418\tvalid_0's l2: 0.00198397\n[283]\tvalid_0's rmse: 0.044533\tvalid_0's l2: 0.00198319\n[284]\tvalid_0's rmse: 0.0445262\tvalid_0's l2: 0.00198259\n[285]\tvalid_0's rmse: 0.044511\tvalid_0's l2: 0.00198123\n[286]\tvalid_0's rmse: 0.044496\tvalid_0's l2: 0.00197989\n[287]\tvalid_0's rmse: 0.0444889\tvalid_0's l2: 0.00197926\n[288]\tvalid_0's rmse: 0.0444818\tvalid_0's l2: 0.00197863\n[289]\tvalid_0's rmse: 0.044471\tvalid_0's l2: 0.00197767\n[290]\tvalid_0's rmse: 0.0444586\tvalid_0's l2: 0.00197657\n[291]\tvalid_0's rmse: 0.0444501\tvalid_0's l2: 0.00197581\n[292]\tvalid_0's rmse: 0.0444434\tvalid_0's l2: 0.00197522\n[293]\tvalid_0's rmse: 0.0444359\tvalid_0's l2: 0.00197455\n[294]\tvalid_0's rmse: 0.0444313\tvalid_0's l2: 0.00197414\n[295]\tvalid_0's rmse: 0.0444224\tvalid_0's l2: 0.00197335\n[296]\tvalid_0's rmse: 0.0444133\tvalid_0's l2: 0.00197254\n"
     ]
    },
    {
     "name": "stdout",
     "output_type": "stream",
     "text": [
      "[297]\tvalid_0's rmse: 0.0444075\tvalid_0's l2: 0.00197203\n[298]\tvalid_0's rmse: 0.0444044\tvalid_0's l2: 0.00197175\n[299]\tvalid_0's rmse: 0.0443955\tvalid_0's l2: 0.00197096\n[300]\tvalid_0's rmse: 0.0443865\tvalid_0's l2: 0.00197016\n[301]\tvalid_0's rmse: 0.0443832\tvalid_0's l2: 0.00196987\n[302]\tvalid_0's rmse: 0.0443779\tvalid_0's l2: 0.0019694\n[303]\tvalid_0's rmse: 0.0443725\tvalid_0's l2: 0.00196892\n[304]\tvalid_0's rmse: 0.0443655\tvalid_0's l2: 0.0019683\n[305]\tvalid_0's rmse: 0.0443604\tvalid_0's l2: 0.00196785\n[306]\tvalid_0's rmse: 0.0443573\tvalid_0's l2: 0.00196757\n[307]\tvalid_0's rmse: 0.0443464\tvalid_0's l2: 0.00196661\n[308]\tvalid_0's rmse: 0.0443392\tvalid_0's l2: 0.00196596\n[309]\tvalid_0's rmse: 0.0443326\tvalid_0's l2: 0.00196538\n[310]\tvalid_0's rmse: 0.0443257\tvalid_0's l2: 0.00196477\n[311]\tvalid_0's rmse: 0.0443259\tvalid_0's l2: 0.00196478\n[312]\tvalid_0's rmse: 0.0443242\tvalid_0's l2: 0.00196463\n[313]\tvalid_0's rmse: 0.044312\tvalid_0's l2: 0.00196356\n[314]\tvalid_0's rmse: 0.0443027\tvalid_0's l2: 0.00196273\n[315]\tvalid_0's rmse: 0.0442991\tvalid_0's l2: 0.00196241\n[316]\tvalid_0's rmse: 0.044287\tvalid_0's l2: 0.00196134\n[317]\tvalid_0's rmse: 0.0442828\tvalid_0's l2: 0.00196097\n[318]\tvalid_0's rmse: 0.0442749\tvalid_0's l2: 0.00196026\n[319]\tvalid_0's rmse: 0.044264\tvalid_0's l2: 0.0019593\n[320]\tvalid_0's rmse: 0.0442621\tvalid_0's l2: 0.00195913\n[321]\tvalid_0's rmse: 0.0442586\tvalid_0's l2: 0.00195882\n[322]\tvalid_0's rmse: 0.0442478\tvalid_0's l2: 0.00195787\n[323]\tvalid_0's rmse: 0.0442456\tvalid_0's l2: 0.00195768\n[324]\tvalid_0's rmse: 0.0442315\tvalid_0's l2: 0.00195643\n"
     ]
    },
    {
     "name": "stdout",
     "output_type": "stream",
     "text": [
      "[325]\tvalid_0's rmse: 0.0442201\tvalid_0's l2: 0.00195542\n[326]\tvalid_0's rmse: 0.0442138\tvalid_0's l2: 0.00195486\n[327]\tvalid_0's rmse: 0.0442034\tvalid_0's l2: 0.00195394\n[328]\tvalid_0's rmse: 0.0441926\tvalid_0's l2: 0.00195299\n[329]\tvalid_0's rmse: 0.04419\tvalid_0's l2: 0.00195276\n[330]\tvalid_0's rmse: 0.0441823\tvalid_0's l2: 0.00195208\n[331]\tvalid_0's rmse: 0.0441742\tvalid_0's l2: 0.00195136\n[332]\tvalid_0's rmse: 0.0441679\tvalid_0's l2: 0.0019508\n[333]\tvalid_0's rmse: 0.0441687\tvalid_0's l2: 0.00195088\n[334]\tvalid_0's rmse: 0.0441654\tvalid_0's l2: 0.00195058\n[335]\tvalid_0's rmse: 0.0441537\tvalid_0's l2: 0.00194955\n[336]\tvalid_0's rmse: 0.0441499\tvalid_0's l2: 0.00194922\n[337]\tvalid_0's rmse: 0.0441473\tvalid_0's l2: 0.00194899\n[338]\tvalid_0's rmse: 0.0441353\tvalid_0's l2: 0.00194792\n[339]\tvalid_0's rmse: 0.0441323\tvalid_0's l2: 0.00194766\n[340]\tvalid_0's rmse: 0.0441267\tvalid_0's l2: 0.00194716\n[341]\tvalid_0's rmse: 0.0441213\tvalid_0's l2: 0.00194669\n[342]\tvalid_0's rmse: 0.0441157\tvalid_0's l2: 0.00194619\n[343]\tvalid_0's rmse: 0.0441076\tvalid_0's l2: 0.00194548\n[344]\tvalid_0's rmse: 0.0441049\tvalid_0's l2: 0.00194524\n[345]\tvalid_0's rmse: 0.0441027\tvalid_0's l2: 0.00194505\n[346]\tvalid_0's rmse: 0.0441014\tvalid_0's l2: 0.00194493\n[347]\tvalid_0's rmse: 0.0441003\tvalid_0's l2: 0.00194483\n[348]\tvalid_0's rmse: 0.0440971\tvalid_0's l2: 0.00194455\n"
     ]
    },
    {
     "name": "stdout",
     "output_type": "stream",
     "text": [
      "[349]\tvalid_0's rmse: 0.0440962\tvalid_0's l2: 0.00194448\n[350]\tvalid_0's rmse: 0.0440901\tvalid_0's l2: 0.00194394\n[351]\tvalid_0's rmse: 0.0440879\tvalid_0's l2: 0.00194374\n[352]\tvalid_0's rmse: 0.044082\tvalid_0's l2: 0.00194322\n[353]\tvalid_0's rmse: 0.0440707\tvalid_0's l2: 0.00194223\n[354]\tvalid_0's rmse: 0.0440661\tvalid_0's l2: 0.00194182\n[355]\tvalid_0's rmse: 0.0440635\tvalid_0's l2: 0.0019416\n[356]\tvalid_0's rmse: 0.0440619\tvalid_0's l2: 0.00194145\n[357]\tvalid_0's rmse: 0.0440587\tvalid_0's l2: 0.00194117\n[358]\tvalid_0's rmse: 0.0440523\tvalid_0's l2: 0.00194061\n[359]\tvalid_0's rmse: 0.0440491\tvalid_0's l2: 0.00194032\n[360]\tvalid_0's rmse: 0.0440491\tvalid_0's l2: 0.00194032\n[361]\tvalid_0's rmse: 0.0440422\tvalid_0's l2: 0.00193972\n[362]\tvalid_0's rmse: 0.0440431\tvalid_0's l2: 0.00193979\n[363]\tvalid_0's rmse: 0.0440333\tvalid_0's l2: 0.00193894\n"
     ]
    },
    {
     "name": "stdout",
     "output_type": "stream",
     "text": [
      "[364]\tvalid_0's rmse: 0.0440313\tvalid_0's l2: 0.00193876\n[365]\tvalid_0's rmse: 0.044029\tvalid_0's l2: 0.00193855\n[366]\tvalid_0's rmse: 0.044028\tvalid_0's l2: 0.00193846\n[367]\tvalid_0's rmse: 0.0440189\tvalid_0's l2: 0.00193766\n[368]\tvalid_0's rmse: 0.0440179\tvalid_0's l2: 0.00193757\n[369]\tvalid_0's rmse: 0.044013\tvalid_0's l2: 0.00193715\n[370]\tvalid_0's rmse: 0.0440131\tvalid_0's l2: 0.00193715\n[371]\tvalid_0's rmse: 0.0440093\tvalid_0's l2: 0.00193682\n"
     ]
    },
    {
     "name": "stdout",
     "output_type": "stream",
     "text": [
      "[372]\tvalid_0's rmse: 0.0440072\tvalid_0's l2: 0.00193664\n[373]\tvalid_0's rmse: 0.0440021\tvalid_0's l2: 0.00193619\n[374]\tvalid_0's rmse: 0.0439955\tvalid_0's l2: 0.00193561\n[375]\tvalid_0's rmse: 0.0439905\tvalid_0's l2: 0.00193517\n[376]\tvalid_0's rmse: 0.0439904\tvalid_0's l2: 0.00193515\n[377]\tvalid_0's rmse: 0.0439869\tvalid_0's l2: 0.00193485\n[378]\tvalid_0's rmse: 0.0439813\tvalid_0's l2: 0.00193436\n[379]\tvalid_0's rmse: 0.0439763\tvalid_0's l2: 0.00193392\n[380]\tvalid_0's rmse: 0.0439719\tvalid_0's l2: 0.00193353\n[381]\tvalid_0's rmse: 0.0439703\tvalid_0's l2: 0.00193339\n[382]\tvalid_0's rmse: 0.043967\tvalid_0's l2: 0.0019331\n[383]\tvalid_0's rmse: 0.0439633\tvalid_0's l2: 0.00193277\n[384]\tvalid_0's rmse: 0.0439615\tvalid_0's l2: 0.00193261\n[385]\tvalid_0's rmse: 0.0439597\tvalid_0's l2: 0.00193245\n[386]\tvalid_0's rmse: 0.0439575\tvalid_0's l2: 0.00193226\n[387]\tvalid_0's rmse: 0.043951\tvalid_0's l2: 0.00193169\n[388]\tvalid_0's rmse: 0.0439506\tvalid_0's l2: 0.00193165\n[389]\tvalid_0's rmse: 0.0439481\tvalid_0's l2: 0.00193144\n[390]\tvalid_0's rmse: 0.0439484\tvalid_0's l2: 0.00193146\n[391]\tvalid_0's rmse: 0.0439479\tvalid_0's l2: 0.00193142\n[392]\tvalid_0's rmse: 0.0439443\tvalid_0's l2: 0.0019311\n[393]\tvalid_0's rmse: 0.0439457\tvalid_0's l2: 0.00193123\n[394]\tvalid_0's rmse: 0.0439422\tvalid_0's l2: 0.00193092\n[395]\tvalid_0's rmse: 0.0439379\tvalid_0's l2: 0.00193054\n[396]\tvalid_0's rmse: 0.0439389\tvalid_0's l2: 0.00193062\n[397]\tvalid_0's rmse: 0.0439387\tvalid_0's l2: 0.00193061\n[398]\tvalid_0's rmse: 0.043935\tvalid_0's l2: 0.00193029\n[399]\tvalid_0's rmse: 0.0439338\tvalid_0's l2: 0.00193018\n[400]\tvalid_0's rmse: 0.0439334\tvalid_0's l2: 0.00193014"
     ]
    },
    {
     "name": "stdout",
     "output_type": "stream",
     "text": [
      "\n[401]\tvalid_0's rmse: 0.0439266\tvalid_0's l2: 0.00192954\n[402]\tvalid_0's rmse: 0.0439227\tvalid_0's l2: 0.00192921\n[403]\tvalid_0's rmse: 0.0439214\tvalid_0's l2: 0.00192909\n[404]\tvalid_0's rmse: 0.0439182\tvalid_0's l2: 0.00192881\n[405]\tvalid_0's rmse: 0.0439164\tvalid_0's l2: 0.00192865\n[406]\tvalid_0's rmse: 0.0439182\tvalid_0's l2: 0.00192881\n[407]\tvalid_0's rmse: 0.0439145\tvalid_0's l2: 0.00192848\n[408]\tvalid_0's rmse: 0.0439091\tvalid_0's l2: 0.00192801\n[409]\tvalid_0's rmse: 0.0439055\tvalid_0's l2: 0.0019277\n[410]\tvalid_0's rmse: 0.0439068\tvalid_0's l2: 0.00192781\n[411]\tvalid_0's rmse: 0.0439019\tvalid_0's l2: 0.00192738\n[412]\tvalid_0's rmse: 0.0439018\tvalid_0's l2: 0.00192737\n[413]\tvalid_0's rmse: 0.0438967\tvalid_0's l2: 0.00192692\n[414]\tvalid_0's rmse: 0.0438949\tvalid_0's l2: 0.00192676\n[415]\tvalid_0's rmse: 0.0438946\tvalid_0's l2: 0.00192674\n[416]\tvalid_0's rmse: 0.0438888\tvalid_0's l2: 0.00192623\n[417]\tvalid_0's rmse: 0.0438824\tvalid_0's l2: 0.00192567\n[418]\tvalid_0's rmse: 0.0438754\tvalid_0's l2: 0.00192505\n[419]\tvalid_0's rmse: 0.0438692\tvalid_0's l2: 0.0019245\n[420]\tvalid_0's rmse: 0.0438675\tvalid_0's l2: 0.00192436\n[421]\tvalid_0's rmse: 0.0438629\tvalid_0's l2: 0.00192395\n[422]\tvalid_0's rmse: 0.0438645\tvalid_0's l2: 0.0019241\n[423]\tvalid_0's rmse: 0.0438636\tvalid_0's l2: 0.00192401\n[424]\tvalid_0's rmse: 0.0438613\tvalid_0's l2: 0.00192382\n[425]\tvalid_0's rmse: 0.0438565\tvalid_0's l2: 0.00192339\n[426]\tvalid_0's rmse: 0.0438565\tvalid_0's l2: 0.00192339\n[427]\tvalid_0's rmse: 0.0438549\tvalid_0's l2: 0.00192325\n[428]\tvalid_0's rmse: 0.0438541\tvalid_0's l2: 0.00192318\n[429]\tvalid_0's rmse: 0.0438477\tvalid_0's l2: 0.00192263\n[430]\tvalid_0's rmse: 0.0438445\tvalid_0's l2: 0.00192234\n[431]\tvalid_0's rmse: 0.0438377\tvalid_0's l2: 0.00192174\n[432]\tvalid_0's rmse: 0.0438315\tvalid_0's l2: 0.0019212\n"
     ]
    },
    {
     "name": "stdout",
     "output_type": "stream",
     "text": [
      "[433]\tvalid_0's rmse: 0.0438261\tvalid_0's l2: 0.00192073\n[434]\tvalid_0's rmse: 0.0438267\tvalid_0's l2: 0.00192078\n[435]\tvalid_0's rmse: 0.0438264\tvalid_0's l2: 0.00192076\n[436]\tvalid_0's rmse: 0.0438212\tvalid_0's l2: 0.0019203\n[437]\tvalid_0's rmse: 0.0438174\tvalid_0's l2: 0.00191996\n[438]\tvalid_0's rmse: 0.0438138\tvalid_0's l2: 0.00191965\n[439]\tvalid_0's rmse: 0.0438112\tvalid_0's l2: 0.00191942\n[440]\tvalid_0's rmse: 0.04381\tvalid_0's l2: 0.00191931\n[441]\tvalid_0's rmse: 0.0438045\tvalid_0's l2: 0.00191884\n[442]\tvalid_0's rmse: 0.0438027\tvalid_0's l2: 0.00191868\n[443]\tvalid_0's rmse: 0.0437977\tvalid_0's l2: 0.00191824\n[444]\tvalid_0's rmse: 0.0437942\tvalid_0's l2: 0.00191793\n[445]\tvalid_0's rmse: 0.0437936\tvalid_0's l2: 0.00191788\n[446]\tvalid_0's rmse: 0.0437888\tvalid_0's l2: 0.00191746\n[447]\tvalid_0's rmse: 0.0437857\tvalid_0's l2: 0.00191718\n[448]\tvalid_0's rmse: 0.0437803\tvalid_0's l2: 0.00191671\n[449]\tvalid_0's rmse: 0.0437739\tvalid_0's l2: 0.00191615\n[450]\tvalid_0's rmse: 0.0437739\tvalid_0's l2: 0.00191615\n[451]\tvalid_0's rmse: 0.043774\tvalid_0's l2: 0.00191617\n[452]\tvalid_0's rmse: 0.0437722\tvalid_0's l2: 0.00191601\n[453]\tvalid_0's rmse: 0.043763\tvalid_0's l2: 0.0019152\n[454]\tvalid_0's rmse: 0.0437575\tvalid_0's l2: 0.00191472\n[455]\tvalid_0's rmse: 0.0437483\tvalid_0's l2: 0.00191392\n[456]\tvalid_0's rmse: 0.0437438\tvalid_0's l2: 0.00191352\n[457]\tvalid_0's rmse: 0.043742\tvalid_0's l2: 0.00191337\n[458]\tvalid_0's rmse: 0.043731\tvalid_0's l2: 0.0019124\n[459]\tvalid_0's rmse: 0.0437229\tvalid_0's l2: 0.00191169\n[460]\tvalid_0's rmse: 0.0437218\tvalid_0's l2: 0.0019116\n[461]\tvalid_0's rmse: 0.0437156\tvalid_0's l2: 0.00191105\n[462]\tvalid_0's rmse: 0.0437076\tvalid_0's l2: 0.00191035\n[463]\tvalid_0's rmse: 0.0437062\tvalid_0's l2: 0.00191023\n[464]\tvalid_0's rmse: 0.0436947\tvalid_0's l2: 0.00190923\n[465]\tvalid_0's rmse: 0.0436952\tvalid_0's l2: 0.00190927\n[466]\tvalid_0's rmse: 0.0436949\tvalid_0's l2: 0.00190925\n[467]\tvalid_0's rmse: 0.0436873\tvalid_0's l2: 0.00190858\n[468]\tvalid_0's rmse: 0.0436853\tvalid_0's l2: 0.00190841\n[469]\tvalid_0's rmse: 0.0436755\tvalid_0's l2: 0.00190755\n[470]\tvalid_0's rmse: 0.0436742\tvalid_0's l2: 0.00190743\n[471]\tvalid_0's rmse: 0.0436668\tvalid_0's l2: 0.00190679\n[472]\tvalid_0's rmse: 0.0436646\tvalid_0's l2: 0.0019066\n[473]\tvalid_0's rmse: 0.0436584\tvalid_0's l2: 0.00190606\n[474]\tvalid_0's rmse: 0.0436546\tvalid_0's l2: 0.00190573\n[475]\tvalid_0's rmse: 0.0436518\tvalid_0's l2: 0.00190548\n[476]\tvalid_0's rmse: 0.0436473\tvalid_0's l2: 0.00190509\n[477]\tvalid_0's rmse: 0.0436478\tvalid_0's l2: 0.00190513\n[478]\tvalid_0's rmse: 0.0436398\tvalid_0's l2: 0.00190443\n[479]\tvalid_0's rmse: 0.0436317\tvalid_0's l2: 0.00190373\n[480]\tvalid_0's rmse: 0.0436253\tvalid_0's l2: 0.00190317\n[481]\tvalid_0's rmse: 0.0436161\tvalid_0's l2: 0.00190237\n[482]\tvalid_0's rmse: 0.0436057\tvalid_0's l2: 0.00190145\n[483]\tvalid_0's rmse: 0.0436051\tvalid_0's l2: 0.00190141\n[484]\tvalid_0's rmse: 0.043598\tvalid_0's l2: 0.00190079\n[485]\tvalid_0's rmse: 0.0435898\tvalid_0's l2: 0.00190007\n[486]\tvalid_0's rmse: 0.0435841\tvalid_0's l2: 0.00189957\n[487]\tvalid_0's rmse: 0.0435815\tvalid_0's l2: 0.00189935"
     ]
    },
    {
     "name": "stdout",
     "output_type": "stream",
     "text": [
      "\n[488]\tvalid_0's rmse: 0.0435759\tvalid_0's l2: 0.00189886\n[489]\tvalid_0's rmse: 0.0435738\tvalid_0's l2: 0.00189868\n[490]\tvalid_0's rmse: 0.0435684\tvalid_0's l2: 0.00189821\n[491]\tvalid_0's rmse: 0.0435657\tvalid_0's l2: 0.00189797\n[492]\tvalid_0's rmse: 0.0435621\tvalid_0's l2: 0.00189766\n[493]\tvalid_0's rmse: 0.0435563\tvalid_0's l2: 0.00189715\n[494]\tvalid_0's rmse: 0.0435504\tvalid_0's l2: 0.00189664\n[495]\tvalid_0's rmse: 0.0435476\tvalid_0's l2: 0.00189639\n[496]\tvalid_0's rmse: 0.0435449\tvalid_0's l2: 0.00189616\n[497]\tvalid_0's rmse: 0.0435405\tvalid_0's l2: 0.00189577\n[498]\tvalid_0's rmse: 0.043533\tvalid_0's l2: 0.00189512\n[499]\tvalid_0's rmse: 0.0435313\tvalid_0's l2: 0.00189498\n[500]\tvalid_0's rmse: 0.0435272\tvalid_0's l2: 0.00189462\n[501]\tvalid_0's rmse: 0.0435223\tvalid_0's l2: 0.00189419\n[502]\tvalid_0's rmse: 0.0435184\tvalid_0's l2: 0.00189385\n[503]\tvalid_0's rmse: 0.0435127\tvalid_0's l2: 0.00189335\n[504]\tvalid_0's rmse: 0.0435082\tvalid_0's l2: 0.00189297\n[505]\tvalid_0's rmse: 0.0435029\tvalid_0's l2: 0.0018925\n[506]\tvalid_0's rmse: 0.0435029\tvalid_0's l2: 0.0018925\n[507]\tvalid_0's rmse: 0.0435027\tvalid_0's l2: 0.00189249\n[508]\tvalid_0's rmse: 0.0435035\tvalid_0's l2: 0.00189255\n[509]\tvalid_0's rmse: 0.0434962\tvalid_0's l2: 0.00189192\n[510]\tvalid_0's rmse: 0.0434896\tvalid_0's l2: 0.00189134\n[511]\tvalid_0's rmse: 0.0434854\tvalid_0's l2: 0.00189098\n[512]\tvalid_0's rmse: 0.0434797\tvalid_0's l2: 0.00189048\n[513]\tvalid_0's rmse: 0.0434794\tvalid_0's l2: 0.00189046\n[514]\tvalid_0's rmse: 0.0434751\tvalid_0's l2: 0.00189008\n[515]\tvalid_0's rmse: 0.0434751\tvalid_0's l2: 0.00189008\n[516]\tvalid_0's rmse: 0.043473\tvalid_0's l2: 0.0018899\n[517]\tvalid_0's rmse: 0.0434737\tvalid_0's l2: 0.00188996\n[518]\tvalid_0's rmse: 0.0434686\tvalid_0's l2: 0.00188952\n[519]\tvalid_0's rmse: 0.0434629\tvalid_0's l2: 0.00188903\n[520]\tvalid_0's rmse: 0.0434583\tvalid_0's l2: 0.00188862\n[521]\tvalid_0's rmse: 0.0434573\tvalid_0's l2: 0.00188854\n[522]\tvalid_0's rmse: 0.0434584\tvalid_0's l2: 0.00188863\n[523]\tvalid_0's rmse: 0.0434523\tvalid_0's l2: 0.0018881\n"
     ]
    },
    {
     "name": "stdout",
     "output_type": "stream",
     "text": [
      "[524]\tvalid_0's rmse: 0.0434538\tvalid_0's l2: 0.00188823\n[525]\tvalid_0's rmse: 0.043452\tvalid_0's l2: 0.00188808\n[526]\tvalid_0's rmse: 0.0434501\tvalid_0's l2: 0.00188791\n[527]\tvalid_0's rmse: 0.043449\tvalid_0's l2: 0.00188781\n[528]\tvalid_0's rmse: 0.0434456\tvalid_0's l2: 0.00188752\n[529]\tvalid_0's rmse: 0.0434456\tvalid_0's l2: 0.00188752\n[530]\tvalid_0's rmse: 0.0434404\tvalid_0's l2: 0.00188707\n[531]\tvalid_0's rmse: 0.0434365\tvalid_0's l2: 0.00188673\n[532]\tvalid_0's rmse: 0.0434374\tvalid_0's l2: 0.00188681\n[533]\tvalid_0's rmse: 0.043431\tvalid_0's l2: 0.00188625\n[534]\tvalid_0's rmse: 0.0434282\tvalid_0's l2: 0.00188601\n[535]\tvalid_0's rmse: 0.0434294\tvalid_0's l2: 0.00188611\n[536]\tvalid_0's rmse: 0.0434293\tvalid_0's l2: 0.0018861\n[537]\tvalid_0's rmse: 0.0434313\tvalid_0's l2: 0.00188628\n[538]\tvalid_0's rmse: 0.0434316\tvalid_0's l2: 0.0018863\n[539]\tvalid_0's rmse: 0.043423\tvalid_0's l2: 0.00188556\n[540]\tvalid_0's rmse: 0.0434182\tvalid_0's l2: 0.00188514\n[541]\tvalid_0's rmse: 0.0434101\tvalid_0's l2: 0.00188444\n[542]\tvalid_0's rmse: 0.0434078\tvalid_0's l2: 0.00188424\n[543]\tvalid_0's rmse: 0.0434082\tvalid_0's l2: 0.00188427\n[544]\tvalid_0's rmse: 0.0434053\tvalid_0's l2: 0.00188402\n[545]\tvalid_0's rmse: 0.0434016\tvalid_0's l2: 0.0018837\n[546]\tvalid_0's rmse: 0.0434028\tvalid_0's l2: 0.0018838\n[547]\tvalid_0's rmse: 0.0434009\tvalid_0's l2: 0.00188363\n[548]\tvalid_0's rmse: 0.0433947\tvalid_0's l2: 0.0018831\n[549]\tvalid_0's rmse: 0.0433974\tvalid_0's l2: 0.00188333\n[550]\tvalid_0's rmse: 0.0433959\tvalid_0's l2: 0.0018832\n[551]\tvalid_0's rmse: 0.043391\tvalid_0's l2: 0.00188278\n[552]\tvalid_0's rmse: 0.0433906\tvalid_0's l2: 0.00188275\n[553]\tvalid_0's rmse: 0.043384\tvalid_0's l2: 0.00188217\n[554]\tvalid_0's rmse: 0.0433827\tvalid_0's l2: 0.00188206\n[555]\tvalid_0's rmse: 0.0433818\tvalid_0's l2: 0.00188198\n[556]\tvalid_0's rmse: 0.0433791\tvalid_0's l2: 0.00188175\n[557]\tvalid_0's rmse: 0.0433726\tvalid_0's l2: 0.00188118\n[558]\tvalid_0's rmse: 0.0433725\tvalid_0's l2: 0.00188118\n[559]\tvalid_0's rmse: 0.0433724\tvalid_0's l2: 0.00188117\n[560]\tvalid_0's rmse: 0.043373\tvalid_0's l2: 0.00188121\n[561]\tvalid_0's rmse: 0.0433702\tvalid_0's l2: 0.00188098\n[562]\tvalid_0's rmse: 0.0433664\tvalid_0's l2: 0.00188065\n[563]\tvalid_0's rmse: 0.0433653\tvalid_0's l2: 0.00188055\n[564]\tvalid_0's rmse: 0.0433651\tvalid_0's l2: 0.00188053\n[565]\tvalid_0's rmse: 0.043362\tvalid_0's l2: 0.00188026\n[566]\tvalid_0's rmse: 0.0433618\tvalid_0's l2: 0.00188025\n[567]\tvalid_0's rmse: 0.0433573\tvalid_0's l2: 0.00187986\n[568]\tvalid_0's rmse: 0.0433534\tvalid_0's l2: 0.00187951\n[569]\tvalid_0's rmse: 0.0433543\tvalid_0's l2: 0.00187959\n[570]\tvalid_0's rmse: 0.0433571\tvalid_0's l2: 0.00187983\n[571]\tvalid_0's rmse: 0.0433521\tvalid_0's l2: 0.0018794\n[572]\tvalid_0's rmse: 0.0433469\tvalid_0's l2: 0.00187895\n[573]\tvalid_0's rmse: 0.0433436\tvalid_0's l2: 0.00187867\n[574]\tvalid_0's rmse: 0.0433458\tvalid_0's l2: 0.00187886\n[575]\tvalid_0's rmse: 0.0433456\tvalid_0's l2: 0.00187884\n[576]\tvalid_0's rmse: 0.0433405\tvalid_0's l2: 0.0018784\n[577]\tvalid_0's rmse: 0.0433421\tvalid_0's l2: 0.00187854\n[578]\tvalid_0's rmse: 0.0433384\tvalid_0's l2: 0.00187821\n"
     ]
    },
    {
     "name": "stdout",
     "output_type": "stream",
     "text": [
      "[579]\tvalid_0's rmse: 0.0433361\tvalid_0's l2: 0.00187802\n[580]\tvalid_0's rmse: 0.0433306\tvalid_0's l2: 0.00187754\n[581]\tvalid_0's rmse: 0.0433261\tvalid_0's l2: 0.00187715\n[582]\tvalid_0's rmse: 0.0433278\tvalid_0's l2: 0.0018773\n[583]\tvalid_0's rmse: 0.0433214\tvalid_0's l2: 0.00187674\n[584]\tvalid_0's rmse: 0.0433201\tvalid_0's l2: 0.00187663\n[585]\tvalid_0's rmse: 0.0433164\tvalid_0's l2: 0.00187631\n[586]\tvalid_0's rmse: 0.0433143\tvalid_0's l2: 0.00187613\n[587]\tvalid_0's rmse: 0.0433166\tvalid_0's l2: 0.00187633\n[588]\tvalid_0's rmse: 0.0433145\tvalid_0's l2: 0.00187615\n[589]\tvalid_0's rmse: 0.0433144\tvalid_0's l2: 0.00187613\n[590]\tvalid_0's rmse: 0.0433138\tvalid_0's l2: 0.00187608\n[591]\tvalid_0's rmse: 0.0433114\tvalid_0's l2: 0.00187588\n[592]\tvalid_0's rmse: 0.0433097\tvalid_0's l2: 0.00187573\n[593]\tvalid_0's rmse: 0.0433104\tvalid_0's l2: 0.00187579\n[594]\tvalid_0's rmse: 0.0433084\tvalid_0's l2: 0.00187561\n[595]\tvalid_0's rmse: 0.0433066\tvalid_0's l2: 0.00187546\n[596]\tvalid_0's rmse: 0.043307\tvalid_0's l2: 0.0018755\n[597]\tvalid_0's rmse: 0.043304\tvalid_0's l2: 0.00187524\n[598]\tvalid_0's rmse: 0.0433022\tvalid_0's l2: 0.00187508\n[599]\tvalid_0's rmse: 0.0432991\tvalid_0's l2: 0.00187481\n[600]\tvalid_0's rmse: 0.0432988\tvalid_0's l2: 0.00187478\n[601]\tvalid_0's rmse: 0.0433\tvalid_0's l2: 0.00187489\n[602]\tvalid_0's rmse: 0.0432947\tvalid_0's l2: 0.00187443\n[603]\tvalid_0's rmse: 0.0432966\tvalid_0's l2: 0.0018746\n[604]\tvalid_0's rmse: 0.0432926\tvalid_0's l2: 0.00187425\n[605]\tvalid_0's rmse: 0.0432929\tvalid_0's l2: 0.00187428\n[606]\tvalid_0's rmse: 0.0432921\tvalid_0's l2: 0.00187421\n[607]\tvalid_0's rmse: 0.0432921\tvalid_0's l2: 0.0018742\n[608]\tvalid_0's rmse: 0.0432945\tvalid_0's l2: 0.00187441\n[609]\tvalid_0's rmse: 0.0432936\tvalid_0's l2: 0.00187433\n[610]\tvalid_0's rmse: 0.0432926\tvalid_0's l2: 0.00187425\n[611]\tvalid_0's rmse: 0.0432902\tvalid_0's l2: 0.00187404\n[612]\tvalid_0's rmse: 0.0432904\tvalid_0's l2: 0.00187406\n[613]\tvalid_0's rmse: 0.0432905\tvalid_0's l2: 0.00187407\n[614]\tvalid_0's rmse: 0.0432883\tvalid_0's l2: 0.00187388\n[615]\tvalid_0's rmse: 0.0432885\tvalid_0's l2: 0.0018739\n[616]\tvalid_0's rmse: 0.0432845\tvalid_0's l2: 0.00187355\n[617]\tvalid_0's rmse: 0.0432806\tvalid_0's l2: 0.00187321\n[618]\tvalid_0's rmse: 0.0432834\tvalid_0's l2: 0.00187346\n[619]\tvalid_0's rmse: 0.0432777\tvalid_0's l2: 0.00187296\n[620]\tvalid_0's rmse: 0.0432769\tvalid_0's l2: 0.00187289\n[621]\tvalid_0's rmse: 0.0432721\tvalid_0's l2: 0.00187247\n[622]\tvalid_0's rmse: 0.0432713\tvalid_0's l2: 0.00187241\n"
     ]
    },
    {
     "name": "stdout",
     "output_type": "stream",
     "text": [
      "[623]\tvalid_0's rmse: 0.0432699\tvalid_0's l2: 0.00187229\n[624]\tvalid_0's rmse: 0.043272\tvalid_0's l2: 0.00187247\n[625]\tvalid_0's rmse: 0.0432684\tvalid_0's l2: 0.00187216\n[626]\tvalid_0's rmse: 0.043265\tvalid_0's l2: 0.00187186\n[627]\tvalid_0's rmse: 0.0432635\tvalid_0's l2: 0.00187173\n[628]\tvalid_0's rmse: 0.0432661\tvalid_0's l2: 0.00187196\n[629]\tvalid_0's rmse: 0.0432651\tvalid_0's l2: 0.00187187\n[630]\tvalid_0's rmse: 0.0432648\tvalid_0's l2: 0.00187184\n[631]\tvalid_0's rmse: 0.0432618\tvalid_0's l2: 0.00187158\n[632]\tvalid_0's rmse: 0.0432583\tvalid_0's l2: 0.00187128\n[633]\tvalid_0's rmse: 0.043252\tvalid_0's l2: 0.00187073\n[634]\tvalid_0's rmse: 0.0432506\tvalid_0's l2: 0.00187061\n[635]\tvalid_0's rmse: 0.0432498\tvalid_0's l2: 0.00187055\n[636]\tvalid_0's rmse: 0.04325\tvalid_0's l2: 0.00187057\n[637]\tvalid_0's rmse: 0.0432491\tvalid_0's l2: 0.00187048\n[638]\tvalid_0's rmse: 0.0432501\tvalid_0's l2: 0.00187057\n[639]\tvalid_0's rmse: 0.0432469\tvalid_0's l2: 0.00187029\n[640]\tvalid_0's rmse: 0.0432429\tvalid_0's l2: 0.00186994\n[641]\tvalid_0's rmse: 0.0432421\tvalid_0's l2: 0.00186988\n[642]\tvalid_0's rmse: 0.043243\tvalid_0's l2: 0.00186996\n[643]\tvalid_0's rmse: 0.0432408\tvalid_0's l2: 0.00186977\n[644]\tvalid_0's rmse: 0.0432383\tvalid_0's l2: 0.00186955\n[645]\tvalid_0's rmse: 0.043234\tvalid_0's l2: 0.00186918\n[646]\tvalid_0's rmse: 0.043231\tvalid_0's l2: 0.00186892\n[647]\tvalid_0's rmse: 0.0432315\tvalid_0's l2: 0.00186896\n"
     ]
    },
    {
     "name": "stdout",
     "output_type": "stream",
     "text": [
      "[648]\tvalid_0's rmse: 0.0432303\tvalid_0's l2: 0.00186886\n[649]\tvalid_0's rmse: 0.0432272\tvalid_0's l2: 0.00186859\n[650]\tvalid_0's rmse: 0.0432263\tvalid_0's l2: 0.00186851\n[651]\tvalid_0's rmse: 0.0432248\tvalid_0's l2: 0.00186838\n[652]\tvalid_0's rmse: 0.0432234\tvalid_0's l2: 0.00186827\n[653]\tvalid_0's rmse: 0.0432227\tvalid_0's l2: 0.0018682\n[654]\tvalid_0's rmse: 0.0432211\tvalid_0's l2: 0.00186807\n[655]\tvalid_0's rmse: 0.0432187\tvalid_0's l2: 0.00186785\n[656]\tvalid_0's rmse: 0.0432154\tvalid_0's l2: 0.00186757\n[657]\tvalid_0's rmse: 0.0432189\tvalid_0's l2: 0.00186787\n[658]\tvalid_0's rmse: 0.0432155\tvalid_0's l2: 0.00186758\n[659]\tvalid_0's rmse: 0.043217\tvalid_0's l2: 0.00186771\n[660]\tvalid_0's rmse: 0.0432131\tvalid_0's l2: 0.00186737\n[661]\tvalid_0's rmse: 0.0432164\tvalid_0's l2: 0.00186766\n[662]\tvalid_0's rmse: 0.0432164\tvalid_0's l2: 0.00186766\n[663]\tvalid_0's rmse: 0.043216\tvalid_0's l2: 0.00186762\n[664]\tvalid_0's rmse: 0.0432163\tvalid_0's l2: 0.00186764\n[665]\tvalid_0's rmse: 0.0432133\tvalid_0's l2: 0.00186739\nEarly stopping, best iteration is:\n[660]\tvalid_0's rmse: 0.0432131\tvalid_0's l2: 0.00186737\n"
     ]
    },
    {
     "data": {
      "text/plain": [
       "LGBMRegressor(boosting_type='gbdt', class_weight=None, colsample_bytree=0.8,\n       importance_type='split', learning_rate=0.01, max_depth=-1,\n       min_child_samples=20, min_child_weight=0.001, min_split_gain=0.0,\n       n_estimators=100000, n_jobs=-1, num_leaves=31,\n       objective='regression', random_state=42, reg_alpha=0.0,\n       reg_lambda=0.0, silent=True, subsample=0.8,\n       subsample_for_bin=200000, subsample_freq=0)"
      ]
     },
     "execution_count": 27,
     "metadata": {},
     "output_type": "execute_result"
    }
   ],
   "source": [
    "gbm.fit(X_train, Y_train, eval_set=[(X_valid, Y_valid)], eval_metric='rmse', early_stopping_rounds=5)"
   ]
  },
  {
   "cell_type": "code",
   "execution_count": 28,
   "metadata": {},
   "outputs": [
    {
     "data": {
      "text/plain": [
       "<matplotlib.axes._subplots.AxesSubplot at 0x7fb89b45afd0>"
      ]
     },
     "execution_count": 28,
     "metadata": {},
     "output_type": "execute_result"
    },
    {
     "data": {
      "image/png": "[encoded data removed]",
      "text/plain": [
       "<Figure size 432x288 with 1 Axes>"
      ]
     },
     "metadata": {},
     "output_type": "display_data"
    }
   ],
   "source": [
    "%matplotlib inline\n",
    "lgb.plot_importance(gbm)"
   ]
  },
  {
   "cell_type": "code",
   "execution_count": 29,
   "metadata": {},
   "outputs": [
    {
     "name": "stdout",
     "output_type": "stream",
     "text": [
      "0.043213082813967414\n"
     ]
    }
   ],
   "source": [
    "valid_rmse = rmse(Y_valid, gbm.predict(X_valid))\n",
    "print(valid_rmse)"
   ]
  },
  {
   "cell_type": "code",
   "execution_count": 30,
   "metadata": {},
   "outputs": [
    {
     "data": {
      "text/plain": [
       "0.08544259844544766"
      ]
     },
     "execution_count": 30,
     "metadata": {},
     "output_type": "execute_result"
    }
   ],
   "source": [
    "rmse(Y_valid, np.zeros(Y_valid.shape[0]))"
   ]
  },
  {
   "cell_type": "code",
   "execution_count": 31,
   "metadata": {},
   "outputs": [],
   "source": [
    "X_test = X.loc[~X.isTrain].drop([\n",
    "    'target',\n",
    "    'isTrain',\n",
    "    'address',\n",
    "    'address_rus',\n",
    "], axis=1)"
   ]
  },
  {
   "cell_type": "code",
   "execution_count": 32,
   "metadata": {},
   "outputs": [],
   "source": [
    "submit = pd.DataFrame(gbm.predict(X_test), index=test.index,columns=['target'])"
   ]
  },
  {
   "cell_type": "code",
   "execution_count": 33,
   "metadata": {},
   "outputs": [],
   "source": [
    "submit.to_csv('../submits/submit_{}.csv'.format(int(valid_rmse*10e4)))"
   ]
  }
 ],
 "metadata": {
  "kernelspec": {
   "display_name": "Python 3",
   "language": "python",
   "name": "python3"
  },
  "language_info": {
   "codemirror_mode": {
    "name": "ipython",
    "version": 3
   },
   "file_extension": ".py",
   "mimetype": "text/x-python",
   "name": "python",
   "nbconvert_exporter": "python",
   "pygments_lexer": "ipython3",
   "version": "3.6.5"
  }
 },
 "nbformat": 4,
 "nbformat_minor": 2
}
